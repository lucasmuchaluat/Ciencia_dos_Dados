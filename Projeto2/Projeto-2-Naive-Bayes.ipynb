{
 "cells": [
  {
   "cell_type": "markdown",
   "metadata": {},
   "source": [
    "# Projeto 2 - Classificador Automático de Sentimento\n",
    "\n",
    "Você foi contratado por uma empresa parar analisar como os clientes estão reagindo a um determinado produto no Twitter. A empresa deseja que você crie um programa que irá analisar as mensagens disponíveis e classificará como \"relevante\" ou \"irrelevante\". Com isso ela deseja que mensagens negativas, que denigrem o nome do produto, ou que mereçam destaque, disparem um foco de atenção da área de marketing.<br /><br />\n",
    "Como aluno de Ciência dos Dados, você lembrou do Teorema de Bayes, mais especificamente do Classificador Naive-Bayes, que é largamente utilizado em filtros anti-spam de e-mails. O classificador permite calcular qual a probabilidade de uma mensagem ser relevante dadas as palavras em seu conteúdo.<br /><br />\n",
    "Para realizar o MVP (*minimum viable product*) do projeto, você precisa implementar uma versão do classificador que \"aprende\" o que é relevante com uma base de treinamento e compara a performance dos resultados com uma base de testes.<br /><br />\n",
    "Após validado, o seu protótipo poderá também capturar e classificar automaticamente as mensagens da plataforma.\n",
    "\n",
    "## Informações do Projeto\n",
    "\n",
    "Prazo: 19/Set até às 23:59.<br />\n",
    "Grupo: 2 ou 3 pessoas - grupos com 3 pessoas terá uma rubrica diferenciada.<br /><br />\n",
    "Entregáveis via GitHub: \n",
    "* Arquivo notebook com o código do classificador, seguindo as orientações abaixo.\n",
    "* Arquivo Excel com as bases de treinamento e teste totalmente classificado.\n",
    "\n",
    "**NÃO gravar a key do professor no arquivo**\n",
    "\n",
    "\n",
    "### Entrega Intermediária: Check 1 - APS 2\n",
    "\n",
    "Até o dia 10/Set às 23:59, xlsx deve estar no Github com as seguintes evidências: \n",
    "\n",
    "  * Produto escolhido.\n",
    "  * Arquivo Excel contendo a base de treinamento e a base de testes já classificadas.\n",
    "\n",
    "Sugestão de leitura:<br />\n",
    "https://monkeylearn.com/blog/practical-explanation-naive-bayes-classifier/"
   ]
  },
  {
   "cell_type": "markdown",
   "metadata": {},
   "source": [
    "___\n",
    "\n",
    "## Parte I - Adquirindo a Base de Dados\n",
    "\n",
    "Acessar o notebook **Projeto-2-Planilha** para realizar a coleta dos dados. O grupo deve classificar os dados coletados manualmente."
   ]
  },
  {
   "cell_type": "markdown",
   "metadata": {},
   "source": [
    "___\n",
    "## Parte II - Montando o Classificador Naive-Bayes\n",
    "\n",
    "Com a base de treinamento montada, comece a desenvolver o classificador. Não se esqueça de implementar o Laplace Smoothing (https://en.wikipedia.org/wiki/Laplace_smoothing).\n",
    "\n",
    "Opcionalmente: \n",
    "* Limpar as mensagens removendo os caracteres: enter, :, \", ', (, ), etc. Não remover emojis.<br />\n",
    "* Corrigir separação de espaços entre palavras e/ou emojis.\n",
    "* Propor outras limpezas/transformações que não afetem a qualidade da informação.\n",
    "\n",
    "Escreva o seu código abaixo:"
   ]
  },
  {
   "cell_type": "code",
   "execution_count": 17,
   "metadata": {},
   "outputs": [],
   "source": [
    "#importando bibliotecas\n",
    "%matplotlib inline\n",
    "import pandas as pd\n",
    "import numpy as np\n",
    "from emoji import UNICODE_EMOJI\n",
    "import math as math\n",
    "from scipy import stats\n",
    "import matplotlib.pyplot as plt\n",
    "import math"
   ]
  },
  {
   "cell_type": "code",
   "execution_count": 18,
   "metadata": {},
   "outputs": [
    {
     "data": {
      "text/html": [
       "<div>\n",
       "<style scoped>\n",
       "    .dataframe tbody tr th:only-of-type {\n",
       "        vertical-align: middle;\n",
       "    }\n",
       "\n",
       "    .dataframe tbody tr th {\n",
       "        vertical-align: top;\n",
       "    }\n",
       "\n",
       "    .dataframe thead th {\n",
       "        text-align: right;\n",
       "    }\n",
       "</style>\n",
       "<table border=\"1\" class=\"dataframe\">\n",
       "  <thead>\n",
       "    <tr style=\"text-align: right;\">\n",
       "      <th></th>\n",
       "      <th>Treinamento</th>\n",
       "      <th>Critério</th>\n",
       "    </tr>\n",
       "  </thead>\n",
       "  <tbody>\n",
       "    <tr>\n",
       "      <th>0</th>\n",
       "      <td>como fazer um quadcopter caseiro elétrico (dro...</td>\n",
       "      <td>Irrelevante</td>\n",
       "    </tr>\n",
       "    <tr>\n",
       "      <th>1</th>\n",
       "      <td>rt @paradise_wang: 2015👶\\n2018🤵\\n\\no dream nig...</td>\n",
       "      <td>Relevante</td>\n",
       "    </tr>\n",
       "    <tr>\n",
       "      <th>2</th>\n",
       "      <td>@vaijuanc a britney é parceira da pepsi a déca...</td>\n",
       "      <td>Irrelevante</td>\n",
       "    </tr>\n",
       "    <tr>\n",
       "      <th>3</th>\n",
       "      <td>mais uma madrugada no chao do banheiro chorand...</td>\n",
       "      <td>Relevante</td>\n",
       "    </tr>\n",
       "    <tr>\n",
       "      <th>4</th>\n",
       "      <td>fetos abortados na pepsi é saudavel e recomendo</td>\n",
       "      <td>Irrelevante</td>\n",
       "    </tr>\n",
       "    <tr>\n",
       "      <th>5</th>\n",
       "      <td>rt @paradise_wang: 2015👶\\n2018🤵\\n\\no dream nig...</td>\n",
       "      <td>Relevante</td>\n",
       "    </tr>\n",
       "    <tr>\n",
       "      <th>6</th>\n",
       "      <td>rt @aaybrunomars: 7.09/8.09 | denver, colorado...</td>\n",
       "      <td>Relevante</td>\n",
       "    </tr>\n",
       "    <tr>\n",
       "      <th>7</th>\n",
       "      <td>@r_gonza @pepsibr prefiro pepsi do que coca-co...</td>\n",
       "      <td>Relevante</td>\n",
       "    </tr>\n",
       "  </tbody>\n",
       "</table>\n",
       "</div>"
      ],
      "text/plain": [
       "                                         Treinamento     Critério\n",
       "0  como fazer um quadcopter caseiro elétrico (dro...  Irrelevante\n",
       "1  rt @paradise_wang: 2015👶\\n2018🤵\\n\\no dream nig...    Relevante\n",
       "2  @vaijuanc a britney é parceira da pepsi a déca...  Irrelevante\n",
       "3  mais uma madrugada no chao do banheiro chorand...    Relevante\n",
       "4    fetos abortados na pepsi é saudavel e recomendo  Irrelevante\n",
       "5  rt @paradise_wang: 2015👶\\n2018🤵\\n\\no dream nig...    Relevante\n",
       "6  rt @aaybrunomars: 7.09/8.09 | denver, colorado...    Relevante\n",
       "7  @r_gonza @pepsibr prefiro pepsi do que coca-co...    Relevante"
      ]
     },
     "execution_count": 18,
     "metadata": {},
     "output_type": "execute_result"
    }
   ],
   "source": [
    "#Leitura do arquivo PEPSI - excel \n",
    "pepsi = pd.read_excel('tweets_pepsi_201809092234.xlsx')\n",
    "pepsi.head(8)"
   ]
  },
  {
   "cell_type": "code",
   "execution_count": 51,
   "metadata": {},
   "outputs": [
    {
     "data": {
      "text/html": [
       "<div>\n",
       "<style scoped>\n",
       "    .dataframe tbody tr th:only-of-type {\n",
       "        vertical-align: middle;\n",
       "    }\n",
       "\n",
       "    .dataframe tbody tr th {\n",
       "        vertical-align: top;\n",
       "    }\n",
       "\n",
       "    .dataframe thead th {\n",
       "        text-align: right;\n",
       "    }\n",
       "</style>\n",
       "<table border=\"1\" class=\"dataframe\">\n",
       "  <thead>\n",
       "    <tr style=\"text-align: right;\">\n",
       "      <th></th>\n",
       "      <th>Treinamento</th>\n",
       "      <th>Critério</th>\n",
       "    </tr>\n",
       "  </thead>\n",
       "  <tbody>\n",
       "    <tr>\n",
       "      <th>0</th>\n",
       "      <td>como fazer um quadcopter caseiro elétrico dron...</td>\n",
       "      <td>Irrelevante</td>\n",
       "    </tr>\n",
       "    <tr>\n",
       "      <th>1</th>\n",
       "      <td>paradisewang 2015 👶 2018 🤵 o dream night foi ...</td>\n",
       "      <td>Relevante</td>\n",
       "    </tr>\n",
       "    <tr>\n",
       "      <th>2</th>\n",
       "      <td>vaijuanc britney parceira pepsi décadas kkk qu...</td>\n",
       "      <td>Irrelevante</td>\n",
       "    </tr>\n",
       "    <tr>\n",
       "      <th>3</th>\n",
       "      <td>mais uma madrugada chao banheiro chorando com ...</td>\n",
       "      <td>Relevante</td>\n",
       "    </tr>\n",
       "    <tr>\n",
       "      <th>4</th>\n",
       "      <td>fetos aboados pepsi saudavel recomendo</td>\n",
       "      <td>Irrelevante</td>\n",
       "    </tr>\n",
       "  </tbody>\n",
       "</table>\n",
       "</div>"
      ],
      "text/plain": [
       "                                         Treinamento     Critério\n",
       "0  como fazer um quadcopter caseiro elétrico dron...  Irrelevante\n",
       "1   paradisewang 2015 👶 2018 🤵 o dream night foi ...    Relevante\n",
       "2  vaijuanc britney parceira pepsi décadas kkk qu...  Irrelevante\n",
       "3  mais uma madrugada chao banheiro chorando com ...    Relevante\n",
       "4             fetos aboados pepsi saudavel recomendo  Irrelevante"
      ]
     },
     "execution_count": 51,
     "metadata": {},
     "output_type": "execute_result"
    }
   ],
   "source": [
    "#criando função que limpa os tweets\n",
    "def limpa_tweet(coluna):\n",
    "    coluna.str.replace(\".\",\"\")\n",
    "    coluna.str.replace(\",\",\"\")\n",
    "    coluna.str.replace(\":\",\"\")\n",
    "    coluna.str.replace(\";\",\"\")\n",
    "    coluna.str.replace(\"@\",\"\")\n",
    "    coluna.str.replace(\"rt\",\"\")\n",
    "    coluna.str.replace(\"_\",\"\")\n",
    "    coluna.str.replace(\"?\",\"\")\n",
    "    coluna.str.replace(\"!\",\"\")\n",
    "    coluna.str.replace(\"(\",\"\")\n",
    "    coluna.str.replace(\")\",\"\")\n",
    "    coluna.str.replace(\"/\",\"\")\n",
    "    coluna.str.replace(\"+\",\"\")\n",
    "    coluna.str.replace(\"-\",\" \")\n",
    "    coluna.str.replace(\"=\",\"\")\n",
    "    coluna.str.replace(\"|\",\"\")\n",
    "    coluna.str.replace(\"#\",\"\")\n",
    "    coluna.str.replace(\"*\",\"\")\n",
    "    coluna.str.replace(\"$\",\"\")\n",
    "    coluna.str.replace(\"{\",\"\")\n",
    "    coluna.str.replace(\"}\",\"\")\n",
    "    coluna.str.replace(\"[\",\"\")\n",
    "    coluna.str.replace(\"]\",\"\")\n",
    "    coluna.str.replace('\"',\"\")\n",
    "    coluna.str.replace('\\n',\"\")\n",
    "    coluna.str.replace(\"_\",\"\")\n",
    "    coluna.str.replace(\" por \", \" \")\n",
    "    coluna.str.replace(\" do \", \" \")\n",
    "    coluna.str.replace(\" dos \", \" \")\n",
    "    coluna.str.replace(\" da \", \" \")\n",
    "    coluna.str.replace(\" das \", \" \")\n",
    "    coluna.str.replace(\" de \", \" \")\n",
    "    coluna.str.replace(\" no \", \" \")\n",
    "    coluna.str.replace(\" nos \", \" \")\n",
    "    coluna.str.replace(\" na \", \" \")\n",
    "    coluna.str.replace(\" nas \", \" \")\n",
    "    coluna.str.replace(\" é \", \" \")\n",
    "    coluna.str.replace(\" e \", \" \")\n",
    "    coluna.str.replace(\" a \", \" \")\n",
    "    coluna.str.replace(\" à \", \" \")\n",
    "    coluna.str.replace(\" á \", \" \")\n",
    "    coluna.str.replace(\" ao \", \" \")\n",
    "    coluna.str.replace(\" aos \", \" \")\n",
    "    coluna.str.replace(\" os \", \" \")\n",
    "    coluna.str.replace(\" as \", \" \")\n",
    "    coluna.str.replace(\" o \", \" \")\n",
    "    coluna.str.replace(\" ò \", \" \")\n",
    "    coluna.str.lower()\n",
    "    return coluna\n",
    "\n",
    "limpa_tweet(pepsi[\"Treinamento\"])\n",
    "pepsi.head()"
   ]
  },
  {
   "cell_type": "code",
   "execution_count": 57,
   "metadata": {},
   "outputs": [
    {
     "data": {
      "text/html": [
       "<div>\n",
       "<style scoped>\n",
       "    .dataframe tbody tr th:only-of-type {\n",
       "        vertical-align: middle;\n",
       "    }\n",
       "\n",
       "    .dataframe tbody tr th {\n",
       "        vertical-align: top;\n",
       "    }\n",
       "\n",
       "    .dataframe thead th {\n",
       "        text-align: right;\n",
       "    }\n",
       "</style>\n",
       "<table border=\"1\" class=\"dataframe\">\n",
       "  <thead>\n",
       "    <tr style=\"text-align: right;\">\n",
       "      <th></th>\n",
       "      <th>Treinamento</th>\n",
       "      <th>Critério</th>\n",
       "    </tr>\n",
       "  </thead>\n",
       "  <tbody>\n",
       "    <tr>\n",
       "      <th>0</th>\n",
       "      <td>como fazer um quadcopter caseiro elétrico dron...</td>\n",
       "      <td>Irrelevante</td>\n",
       "    </tr>\n",
       "    <tr>\n",
       "      <th>1</th>\n",
       "      <td>paradisewang 2015  👶  2018  🤵  o dream night ...</td>\n",
       "      <td>Relevante</td>\n",
       "    </tr>\n",
       "    <tr>\n",
       "      <th>2</th>\n",
       "      <td>vaijuanc britney parceira pepsi décadas kkk qu...</td>\n",
       "      <td>Irrelevante</td>\n",
       "    </tr>\n",
       "    <tr>\n",
       "      <th>3</th>\n",
       "      <td>mais uma madrugada chao banheiro chorando com ...</td>\n",
       "      <td>Relevante</td>\n",
       "    </tr>\n",
       "    <tr>\n",
       "      <th>4</th>\n",
       "      <td>fetos aboados pepsi saudavel recomendo</td>\n",
       "      <td>Irrelevante</td>\n",
       "    </tr>\n",
       "  </tbody>\n",
       "</table>\n",
       "</div>"
      ],
      "text/plain": [
       "                                         Treinamento     Critério\n",
       "0  como fazer um quadcopter caseiro elétrico dron...  Irrelevante\n",
       "1   paradisewang 2015  👶  2018  🤵  o dream night ...    Relevante\n",
       "2  vaijuanc britney parceira pepsi décadas kkk qu...  Irrelevante\n",
       "3  mais uma madrugada chao banheiro chorando com ...    Relevante\n",
       "4             fetos aboados pepsi saudavel recomendo  Irrelevante"
      ]
     },
     "execution_count": 57,
     "metadata": {},
     "output_type": "execute_result"
    }
   ],
   "source": [
    "#criando funcao que coloca espaços entre emojis\n",
    "def espaco_emoji(coluna):\n",
    "    lista_espacada_emoji = []\n",
    "    for tweet in coluna:\n",
    "        nada = ''\n",
    "        for palavra in tweet:\n",
    "            if palavra in UNICODE_EMOJI:\n",
    "                nada = nada + \" \" + palavra + \" \"\n",
    "            else:\n",
    "                nada += palavra\n",
    "        lista_espacada_emoji.append(nada)\n",
    "    return lista_espacada_emoji\n",
    "\n",
    "\n",
    "pepsi[\"Treinamento\"] = espaco_emoji(pepsi[\"Treinamento\"])\n",
    "pepsi.head()"
   ]
  },
  {
   "cell_type": "code",
   "execution_count": 21,
   "metadata": {},
   "outputs": [
    {
     "data": {
      "text/html": [
       "<div>\n",
       "<style scoped>\n",
       "    .dataframe tbody tr th:only-of-type {\n",
       "        vertical-align: middle;\n",
       "    }\n",
       "\n",
       "    .dataframe tbody tr th {\n",
       "        vertical-align: top;\n",
       "    }\n",
       "\n",
       "    .dataframe thead th {\n",
       "        text-align: right;\n",
       "    }\n",
       "</style>\n",
       "<table border=\"1\" class=\"dataframe\">\n",
       "  <thead>\n",
       "    <tr style=\"text-align: right;\">\n",
       "      <th></th>\n",
       "      <th>Treinamento</th>\n",
       "      <th>Critério</th>\n",
       "    </tr>\n",
       "  </thead>\n",
       "  <tbody>\n",
       "    <tr>\n",
       "      <th>1</th>\n",
       "      <td>paradisewang 2015 👶 2018 🤵 o dream night foi ...</td>\n",
       "      <td>Relevante</td>\n",
       "    </tr>\n",
       "    <tr>\n",
       "      <th>3</th>\n",
       "      <td>mais uma madrugada chao banheiro chorando com ...</td>\n",
       "      <td>Relevante</td>\n",
       "    </tr>\n",
       "    <tr>\n",
       "      <th>5</th>\n",
       "      <td>paradisewang 2015 👶 2018 🤵 o dream night foi ...</td>\n",
       "      <td>Relevante</td>\n",
       "    </tr>\n",
       "    <tr>\n",
       "      <th>6</th>\n",
       "      <td>aaybrunomars 709809  denver colorado 🇺🇸 24kma...</td>\n",
       "      <td>Relevante</td>\n",
       "    </tr>\n",
       "    <tr>\n",
       "      <th>7</th>\n",
       "      <td>rgonza pepsibr prefiro pepsi que coca cola exe...</td>\n",
       "      <td>Relevante</td>\n",
       "    </tr>\n",
       "  </tbody>\n",
       "</table>\n",
       "</div>"
      ],
      "text/plain": [
       "                                         Treinamento   Critério\n",
       "1   paradisewang 2015 👶 2018 🤵 o dream night foi ...  Relevante\n",
       "3  mais uma madrugada chao banheiro chorando com ...  Relevante\n",
       "5   paradisewang 2015 👶 2018 🤵 o dream night foi ...  Relevante\n",
       "6   aaybrunomars 709809  denver colorado 🇺🇸 24kma...  Relevante\n",
       "7  rgonza pepsibr prefiro pepsi que coca cola exe...  Relevante"
      ]
     },
     "execution_count": 21,
     "metadata": {},
     "output_type": "execute_result"
    }
   ],
   "source": [
    "#separando tweets relevantes do total\n",
    "pepsi_relevante = pepsi[(pepsi[\"Critério\"]==\"Relevante\")]\n",
    "pepsi_relevante.head()"
   ]
  },
  {
   "cell_type": "code",
   "execution_count": 22,
   "metadata": {},
   "outputs": [
    {
     "data": {
      "text/html": [
       "<div>\n",
       "<style scoped>\n",
       "    .dataframe tbody tr th:only-of-type {\n",
       "        vertical-align: middle;\n",
       "    }\n",
       "\n",
       "    .dataframe tbody tr th {\n",
       "        vertical-align: top;\n",
       "    }\n",
       "\n",
       "    .dataframe thead th {\n",
       "        text-align: right;\n",
       "    }\n",
       "</style>\n",
       "<table border=\"1\" class=\"dataframe\">\n",
       "  <thead>\n",
       "    <tr style=\"text-align: right;\">\n",
       "      <th></th>\n",
       "      <th>Treinamento</th>\n",
       "      <th>Critério</th>\n",
       "    </tr>\n",
       "  </thead>\n",
       "  <tbody>\n",
       "    <tr>\n",
       "      <th>0</th>\n",
       "      <td>como fazer um quadcopter caseiro elétrico dron...</td>\n",
       "      <td>Irrelevante</td>\n",
       "    </tr>\n",
       "    <tr>\n",
       "      <th>2</th>\n",
       "      <td>vaijuanc britney parceira pepsi décadas kkk qu...</td>\n",
       "      <td>Irrelevante</td>\n",
       "    </tr>\n",
       "    <tr>\n",
       "      <th>4</th>\n",
       "      <td>fetos aboados pepsi saudavel recomendo</td>\n",
       "      <td>Irrelevante</td>\n",
       "    </tr>\n",
       "    <tr>\n",
       "      <th>9</th>\n",
       "      <td>bspearsbr  📢  notícia  📢 randee divulga em se...</td>\n",
       "      <td>Irrelevante</td>\n",
       "    </tr>\n",
       "    <tr>\n",
       "      <th>11</th>\n",
       "      <td>eu tô muito podre só bebi pepsi ontem</td>\n",
       "      <td>Irrelevante</td>\n",
       "    </tr>\n",
       "  </tbody>\n",
       "</table>\n",
       "</div>"
      ],
      "text/plain": [
       "                                          Treinamento     Critério\n",
       "0   como fazer um quadcopter caseiro elétrico dron...  Irrelevante\n",
       "2   vaijuanc britney parceira pepsi décadas kkk qu...  Irrelevante\n",
       "4              fetos aboados pepsi saudavel recomendo  Irrelevante\n",
       "9    bspearsbr  📢  notícia  📢 randee divulga em se...  Irrelevante\n",
       "11              eu tô muito podre só bebi pepsi ontem  Irrelevante"
      ]
     },
     "execution_count": 22,
     "metadata": {},
     "output_type": "execute_result"
    }
   ],
   "source": [
    "#separando tweets irrelevantes do total\n",
    "pepsi_irrelevante = pepsi[(pepsi[\"Critério\"]==\"Irrelevante\")]\n",
    "pepsi_irrelevante.head()"
   ]
  },
  {
   "cell_type": "code",
   "execution_count": 23,
   "metadata": {},
   "outputs": [
    {
     "name": "stdout",
     "output_type": "stream",
     "text": [
      "['paradisewang', '2015', '👶', '2018', '🤵', 'o', 'dream', 'night', 'foi', 'um', 'web', 'drama', 'pra', 'fazer', 'gente', 'rir', 'produção', 'mas', 'essa', 'propaganda', 'pepsi', 'jackson', 'ma…', 'mais', 'uma', 'madrugada', 'chao', 'banheiro', 'chorando', 'com', 'minha', 'fiel', 'companheira', 'garrafa', 'pepsi', 'paradisewang', '2015', '👶', '2018', '🤵', 'o', 'dream', 'night', 'foi', 'um', 'web', 'drama', 'pra', 'fazer', 'gente', 'rir', 'produção', 'mas', 'essa', 'propaganda', 'pepsi', 'jackson', 'ma…', 'aaybrunomars', '709809', 'denver', 'colorado', '🇺🇸', '24kmagicworldtour', '📍', 'pepsi', 'center', '📍', 'capacidade', '20000', '📍', 'horário', 'previsto', '2115', 'hora…', 'rgonza', 'pepsibr', 'prefiro', 'pepsi', 'que', 'coca', 'cola', 'exemplo', 'mas', 'um', 'saco', 'tem', 'que', 'forcejar', 'pra', 'abrir', 'uma', 'garrafa', 'que', 'chega', 'estufar', 'paradisewang', '2015', '👶', '2018', '🤵', 'o', 'dream', 'night', 'foi', 'um', 'web', 'drama', 'pra', 'fazer', 'gente', 'rir', 'produção', 'mas', 'essa', 'propaganda', 'pepsi', 'jackson', 'ma…', 'nada', 'melhor', 'que', 'tomar', 'uma', 'pepsi', 'britneyonlinebr', 'fotógrafa', 'randee', 'st', 'nicholas', 'divulgou', 'foto', 'completa', 'britney', 'para', 'pepsi', '🤤', 'httpstcoi2enloh4jp', 'britneyonlinebr', 'fotógrafa', 'randee', 'st', 'nicholas', 'divulgou', 'foto', 'completa', 'britney', 'para', 'pepsi', '🤤', 'httpstcoi2enloh4jp', 'aaybrunomars', '709809', 'denver', 'colorado', '🇺🇸', '24kmagicworldtour', '📍', 'pepsi', 'center', '📍', 'capacidade', '20000', '📍', 'horário', 'previsto', '2115', 'hora…', 'agora', 'só', 'pepsi', 'httpstcofshk8ozwwn', 'btsare7', 'como', 'esquecer', 'dia', 'que', 'jimin', 'mesmo', 'com', 'dificuldade', 'falar', 'em', 'inglês', 'pergunta', 'qual', 'bebida', 'mais', 'famosa', 'doninha', 'diz…', 'matei', '4', 'pãozinhos', 'com', 'queijo', 'presunto', 'uma', 'pepsi', 'bem', 'gelada', 'vender', 'coca', 'cola', 'em', 'copos', 'pepsi', '👏', '👏', '👏', 'hoje', 'uma', 'amiga', 'minha', 'veio', 'almoçar', 'aqui', 'pedi', 'pra', 'ela', 'trazer', 'um', 'refriela', 'trouxe', 'pepsi', 'quem', 'que', 'compra', 'pepsi', 'gente', 'agora', 'que', 'percebi', 'que', 'tem', 'logo', 'pepsi', 'ali', 'meio', 'hahauzuau', 'bspearsbr', '📢', 'notícia', '📢', 'randee', 'divulga', 'em', 'seu', 'instagram', 'foto', 'original', 'pepsi', '2018', 'httpstcod2wjmkdndv', 'pepsi', 'bk', 'amais', 'expliquem', 'me', 'porque', 'que', 'eu', 'trouxe', 'para', 'casa', 'uma', 'pepsi', 'se', 'eu', 'nem', 'gosto', 'pepsi', 'paesjunior7', 'aposto', 'uma', 'trakinas', 'c', 'pepsi', 'q', 'grêmio', 'ganha', 'acho', 'que', 'nunca', 'tomei', 'tanta', 'pepsi', 'como', 'nesse', 'feriado', 'em', 'menos', '24h', 'eu', 'tomei', 'quase', '25', 'l', 'pepsisim', 'prefiro', 'pepsi', 'que', 'coca', 'me', 'julguem', 'bspearsbr', '📢', 'notícia', '📢', 'randee', 'divulga', 'em', 'seu', 'instagram', 'foto', 'original', 'pepsi', '2018', 'httpstcod2wjmkdndv', 'wirubozugan', 'pepsia', 'pepsi', 'nem', 'deve', 'patrocinar', 'brasileirão', 'só', '2012', 'hlimaac', 'isso', 'q', 'ninguém', 'te', 'beija', 'se', 'fosse', 'pepsi', 'nuu', 'já', 'desisti', 'tentar', 'patrocínio', 'pepsi', 'httpstcof7twaeyinj', 'pepsi', 'eh', 'outro', 'mundo', 'vsf', 'que', 'coisa', 'bem', 'boa', 'aventurasjs', 'denúncia', 'pepsi', 'agora', 'adoçada', 'com', 'fetos', 'aboados', 'smurfs', 'httpstcoriivdtzog1', 'juliaol', 'c', 'pepsi', 'twist', 'fica', 'maravilhoso', 'britneyonlinebr', 'fotógrafa', 'randee', 'st', 'nicholas', 'divulgou', 'foto', 'completa', 'britney', 'para', 'pepsi', '🤤', 'httpstcoi2enloh4jp', 'pepsi', 'muito', 'bom', 'rss', 'paradisewang', '2015', '👶', '2018', '🤵', 'o', 'dream', 'night', 'foi', 'um', 'web', 'drama', 'pra', 'fazer', 'gente', 'rir', 'produção', 'mas', 'essa', 'propaganda', 'pepsi', 'jackson', 'ma…', 'realizações', 'em', '2008', '“pepsi', 'legends', 'of', 'the', 'microphone”', 'primeiro', 'lugar', 'paicipou', 'programa', '“etn', 'cross', 'battle”', 'paicipou', 'programa', '“comedy', 'tv’s', 'ulzzang', 'tv', '“', '“espero', 'que', 'possamos', 'ser', '1', 'ásia', 'espero', 'também', 'que', 'crossgene', 'faça', 'turnê', 'mundial”', '–', 'casper', 'pepsi', 'limão', 'tá', 'com', 'gosto', 'chá', 'gelado', 'pêssego', 'aaybrunomars', '709809', 'denver', 'colorado', '🇺🇸', '24kmagicworldtour', '📍', 'pepsi', 'center', '📍', 'capacidade', '20000', '📍', 'horário', 'previsto', '2115', 'hora…', 'paradisewang', '2015', '👶', '2018', '🤵', 'o', 'dream', 'night', 'foi', 'um', 'web', 'drama', 'pra', 'fazer', 'gente', 'rir', 'produção', 'mas', 'essa', 'propaganda', 'pepsi', 'jackson', 'ma…', 'dai', 'fui', 'comprar', 'camisa', 'inter', 'hoje', 'nao', 'tinha', 'ai', 'vi', 'um', 'tênis', 'pika', 'fui', 'ver', '550', 'ma', 'senti', 'facada', 'hr', 'resumindo', 'comprei', 'uma', 'latinha', 'pepsi', 'voltei', 'pra', 'baia', 'bbbscomenta', 'pepsi', 'muito', 'ruim', 'misericórdia', 'maisbritney', '🚨', 'notíciasbritneyarmyrandee', 'st', 'nicholas', 'divulgou', 'em', 'seu', 'instagram', 'foto', 'original', 'britneyspears', 'para', 'pepsi…', '😂', '😂', '😂', '😂', '😂', '😂', '😂', '😂', '😂', '😂', '😂', '😂', '😂', '😂', '😂', '😂', '😂', '😂', '😂', '😂', '😂', '😂', '😂', '😂', '😂', '😂', 'daqui', 'pouco', 'vai', 'ter', 'gente', 'botando', 'filha', 'fazer', 'comercial', 'pepsi', 'dnv', 'pra', 'ganhar', 'uma', 'moral', 'ser', 'lembrado', 'assumir', 'uma', 'barquinha', 'ai', 'heimm', '😂', '😂', '😂', '😂', '😂', '😂', '😂', '😂', '😂', 'paradisewang', '2015', '👶', '2018', '🤵', 'o', 'dream', 'night', 'foi', 'um', 'web', 'drama', 'pra', 'fazer', 'gente', 'rir', 'produção', 'mas', 'essa', 'propaganda', 'pepsi', 'jackson', 'ma…', 'dudamatter7', 'lucaxarruda', 'tamint', 'pepsi', 'tem', 'história', 'bspearsbr', '📢', 'notícia', '📢', 'randee', 'divulga', 'em', 'seu', 'instagram', 'foto', 'original', 'pepsi', '2018', 'httpstcod2wjmkdndv', 'bspearsbr', '📢', 'notícia', '📢', 'randee', 'divulga', 'em', 'seu', 'instagram', 'foto', 'original', 'pepsi', '2018', 'httpstcod2wjmkdndv', 'viihsilano', 'jusepdomal', 'pepsi', 'mt', 'ruim', 'vitoria', 'bspearsbr', '📢', 'notícia', '📢', 'randee', 'divulga', 'em', 'seu', 'instagram', 'foto', 'original', 'pepsi', '2018', 'httpstcod2wjmkdndv', 'britneyonlinebr', 'fotógrafa', 'randee', 'st', 'nicholas', 'divulgou', 'foto', 'completa', 'britney', 'para', 'pepsi', '🤤', 'httpstcoi2enloh4jp', 'jusepdomal', 'viihsilano', 'pepsi', 'parece', 'coca', 'sem', 'gás', 'uma', 'pizza', 'uma', 'pepsi', 'paradisewang', '2015', '👶', '2018', '🤵', 'o', 'dream', 'night', 'foi', 'um', 'web', 'drama', 'pra', 'fazer', 'gente', 'rir', 'produção', 'mas', 'essa', 'propaganda', 'pepsi', 'jackson', 'ma…', 'tava', 'beber', 'pepsi', 'jantar', 'n', 'conseguia', 'desver', 'isto', 'lmao', 'httpstcobrfeolwvk3', 'aaybrunomars', '709809', 'denver', 'colorado', '🇺🇸', '24kmagicworldtour', '📍', 'pepsi', 'center', '📍', 'capacidade', '20000', '📍', 'horário', 'previsto', '2115', 'hora…', 'caroulesribeiro', 'eu', 'cui', 'pepsi', 'com', 'gengibre', 'essa', 'eu', 'ainda', 'não', 'tomei', 'shout', 'out', 'pra', 'milena', 'q', 'foaleceu', 'hj', 'comida', 'bebidaa', 'gente', 'foi', 'p', 'conveniencia', 'comer', 'ruffles', 'tomar', 'pepsi', 'paradisewang', '2015', '👶', '2018', '🤵', 'o', 'dream', 'night', 'foi', 'um', 'web', 'drama', 'pra', 'fazer', 'gente', 'rir', 'produção', 'mas', 'essa', 'propaganda', 'pepsi', 'jackson', 'ma…', 'paradisewang', '2015', '👶', '2018', '🤵', 'o', 'dream', 'night', 'foi', 'um', 'web', 'drama', 'pra', 'fazer', 'gente', 'rir', 'produção', 'mas', 'essa', 'propaganda', 'pepsi', 'jackson', 'ma…', 'paradisewang', '2015', '👶', '2018', '🤵', 'o', 'dream', 'night', 'foi', 'um', 'web', 'drama', 'pra', 'fazer', 'gente', 'rir', 'produção', 'mas', 'essa', 'propaganda', 'pepsi', 'jackson', 'ma…', 'só', 'uma', 'pepsi', 'pode', 'me', 'salvar', 'viihsilano', 'babissena', 'pepsi', 'twist', 'boa', 'mesmo', '24khot', 'segunda', 'noite', 'pepsi', 'center', '08092018hotcarrotgroup🇧🇷24kmagicworldtourfinale24magicworldtourbrunomarsuser', 'insta', 'tb…', 'pepsi', 'melhor', 'que', 'coca', '😘', 'essa', 'apresentação', 'beyoncé', 'evento', 'pepsi', 'me', 'licença', 'ne', 'paradisewang', '2015', '👶', '2018', '🤵', 'o', 'dream', 'night', 'foi', 'um', 'web', 'drama', 'pra', 'fazer', 'gente', 'rir', 'produção', 'mas', 'essa', 'propaganda', 'pepsi', 'jackson', 'ma…', 'eu', 'minha', 'pepsi', 'cinema', '❣', '️', 'paradisewang', '2015', '👶', '2018', '🤵', 'o', 'dream', 'night', 'foi', 'um', 'web', 'drama', 'pra', 'fazer', 'gente', 'rir', 'produção', 'mas', 'essa', 'propaganda', 'pepsi', 'jackson', 'ma…', 'imjulianar', 'batata', 'cheddar', 'bacon', 'aneis', 'cebola', 'mt', 'pepsi', 'ingriddsantoss', 'ano', '2012show', 'forfun', 'pepsi', 'gurizada', 'metendo', 'aquece', 'rua', 'aguardando', 'ansiosamente', 'começa', 'showhidrop…', 'melhor', 'refrigerante', 'sem', 'dúvidas', 'pepsi', 'twist', '💁', '🏻\\u200d', '♀', '️', '💖', 'se', 'você', 'não', 'jogou', 'pepsi', 'man', 'ps1', 'sua', 'infância', 'foi', 'uma', 'merda', 'bspearsbr', '📢', 'notícia', '📢', 'randee', 'divulga', 'em', 'seu', 'instagram', 'foto', 'original', 'pepsi', '2018', 'httpstcod2wjmkdndv', 'paradisewang', '2015', '👶', '2018', '🤵', 'o', 'dream', 'night', 'foi', 'um', 'web', 'drama', 'pra', 'fazer', 'gente', 'rir', 'produção', 'mas', 'essa', 'propaganda', 'pepsi', 'jackson', 'ma…', 'kkkkkkkkkkk', 'eh', 'pepsi', 'mesmo', 'socorrooo', '—', 'ahhhh', 'eh', 'aquele', 'comercial', 'que', 'ela', 'fez', 'pra', 'pepsi', 'que', 'tá', 'tendo', 'uma', 'manifestação', 'aí', 'ela', 'entrega', 'u', 'httpstco0996lyuicz', 'bspearsbr', '📢', 'notícia', '📢', 'randee', 'divulga', 'em', 'seu', 'instagram', 'foto', 'original', 'pepsi', '2018', 'httpstcod2wjmkdndv', 'btsare7', 'como', 'esquecer', 'dia', 'que', 'jimin', 'mesmo', 'com', 'dificuldade', 'falar', 'em', 'inglês', 'pergunta', 'qual', 'bebida', 'mais', 'famosa', 'doninha', 'diz…', 'caralho', '3', 'matina', 'eu', 'bebendo', 'pepsi', 'com', 'sake', 'oq', 'eu', 'to', 'fazendo', 'com', 'minha', 'vida', 'listinha', 'coisas', 'que', 'comi', 'hojebolohamburguer', 'bkbatatapepsi', 'twist', 'kit', 'katbubble', 'killhamburguer', 'mccasquinha', 'engordei', '50', 'kg', 'paradisewang', '2015', '👶', '2018', '🤵', 'o', 'dream', 'night', 'foi', 'um', 'web', 'drama', 'pra', 'fazer', 'gente', 'rir', 'produção', 'mas', 'essa', 'propaganda', 'pepsi', 'jackson', 'ma…', 'paradisewang', '2015', '👶', '2018', '🤵', 'o', 'dream', 'night', 'foi', 'um', 'web', 'drama', 'pra', 'fazer', 'gente', 'rir', 'produção', 'mas', 'essa', 'propaganda', 'pepsi', 'jackson', 'ma…', 'paradisewang', '2015', '👶', '2018', '🤵', 'o', 'dream', 'night', 'foi', 'um', 'web', 'drama', 'pra', 'fazer', 'gente', 'rir', 'produção', 'mas', 'essa', 'propaganda', 'pepsi', 'jackson', 'ma…', 'rafazimbra', 'minha', 'opiniãoindispensáveiscoca', 'colaguaraná', 'antáicafanta', 'guaraná', 'tomo', 'quando', 'tempepsidollyguaraná', 'kuati…', 'aaybrunomars', '709809', 'denver', 'colorado', '🇺🇸', '24kmagicworldtour', '📍', 'pepsi', 'center', '📍', 'capacidade', '20000', '📍', 'horário', 'previsto', '2115', 'hora…', 'pode', 'ser', 'pepsipode', 'sim', 'bom', 'que', 'não', 'mistura', 'queria', 'mesmo', 'era', 'uma', 'pepsi', 'bem', 'gelada', 'blackorjackson', 'pepsi', 'lança', 'latinhas', 'com', 'foto', 'mike', 'não', 'tem', 'brasil', 'países', 'fazem', 'tributo', 'em', 'comemoração', '60', 'anos', 'michael…', 'asaelmgarcia', 'brunomars', 'pepsi', 'center', 'httpstco9rvbiebi0c', 'paradisewang', '2015', '👶', '2018', '🤵', 'o', 'dream', 'night', 'foi', 'um', 'web', 'drama', 'pra', 'fazer', 'gente', 'rir', 'produção', 'mas', 'essa', 'propaganda', 'pepsi', 'jackson', 'ma…', 'bspearsbr', '📢', 'notícia', '📢', 'randee', 'divulga', 'em', 'seu', 'instagram', 'foto', 'original', 'pepsi', '2018', 'httpstcod2wjmkdndv', 'pizza', 'pepsi', 'melhor', 'combinação', 'aventurasjs', 'denúncia', 'pepsi', 'agora', 'adoçada', 'com', 'fetos', 'aboados', 'smurfs', 'httpstcoriivdtzog1', 'uberprintss', 'to', 'tomando', 'uma', 'pepsi', 'posto', '™', 'httpstco2ipu9saqnc', 'britneyonlinebr', 'fotógrafa', 'randee', 'st', 'nicholas', 'divulgou', 'foto', 'completa', 'britney', 'para', 'pepsi', '🤤', 'httpstcoi2enloh4jp', 'nutellaruiva', 'to', 'há', 'tempos', 'sem', 'tomar', 'refri', 'mas', 'me', 'bateu', 'uma', 'sede', 'pepsi', 'twist', 'agora', 'como', 'esquecer', 'dia', 'que', 'jimin', 'mesmo', 'com', 'dificuldade', 'falar', 'em', 'inglês', 'pergunta', 'qual', 'bebida', 'mais', 'famosa', 'doninha', 'diz', 'pepsi', 'ele', 'ri', 'com', 'aquela', 'carinha', 'mais', 'fofa', 'pede', 'uma', 'cocapark', 'jimin', 'só', 'queria', 'gastar', 'que', 'tinha', 'decorado', 'mesmo', 'kkkkkkkkkkkkk', 'btstwt', 'httpstconvj5nawck5', 'paradisewang', '2015', '👶', '2018', '🤵', 'o', 'dream', 'night', 'foi', 'um', 'web', 'drama', 'pra', 'fazer', 'gente', 'rir', 'produção', 'mas', 'essa', 'propaganda', 'pepsi', 'jackson', 'ma…', 'maisbritney', '🚨', 'notíciasbritneyarmyrandee', 'st', 'nicholas', 'divulgou', 'em', 'seu', 'instagram', 'foto', 'original', 'britneyspears', 'para', 'pepsi…', 'anareisll', 'jimin', 'qual', 'bebida', 'mais', 'famosamoça', 'pepsijimin', 'pepsi', 'hahahahahahahah', 'ok', 'me', 'vê', 'uma', 'coca', 'favorna', 'vida', 'eu', 'so…', 'paradisewang', '2015', '👶', '2018', '🤵', 'o', 'dream', 'night', 'foi', 'um', 'web', 'drama', 'pra', 'fazer', 'gente', 'rir', 'produção', 'mas', 'essa', 'propaganda', 'pepsi', 'jackson', 'ma…', 'heloboeiraa', 'fora', 'pepsi', 'bolacha', 'mousse', 'todo', 'dia', 'lkkkkk', 'maisbritney', '🚨', 'notíciasbritneyarmyrandee', 'st', 'nicholas', 'divulgou', 'em', 'seu', 'instagram', 'foto', 'original', 'britneyspears', 'para', 'pepsi…', 'btsare7', 'como', 'esquecer', 'dia', 'que', 'jimin', 'mesmo', 'com', 'dificuldade', 'falar', 'em', 'inglês', 'pergunta', 'qual', 'bebida', 'mais', 'famosa', 'doninha', 'diz…', 'bspearsbr', '📢', 'notícia', '📢', 'randee', 'divulga', 'em', 'seu', 'instagram', 'foto', 'original', 'pepsi', '2018', 'httpstcod2wjmkdndv', 'rafazimbra', 'minha', 'opiniãoindispensáveiscoca', 'colaguaraná', 'antáicafanta', 'guaraná', 'tomo', 'quando', 'tempepsidollyguaraná', 'kuati…', 'lembrei', 'agora', 'que', 'ia', 'largar', 'show', 'mac', 'miller', 'wiz', 'pepsi', 'mas', 'tinha', 'sido', 'cancelado', 'ingriddsantoss', 'ano', '2012show', 'forfun', 'pepsi', 'gurizada', 'metendo', 'aquece', 'rua', 'aguardando', 'ansiosamente', 'começa', 'showhidrop…', 'subwaybrasil', 'me', 'mande', '12', 'sanduiche', '30', 'com', 'frango', 'maionese', 'alface', 'pepino', 'pão', 'italiano', 'sem', 'queijo', 'duas', 'pepsi', '1', 'um', 'cookie', 'porfavor', '😭', '😭', 'que', 'belo', 'dia', 'para', 'ver', 'meu', 'time', 'ser', 'impiedosamente', 'massacrado', 'clássico', 'citadino', 'pena', 'que', 'eu', 'não', 'comprei', 'uma', 'pepsi', 'cola', 'para', 'acompanhar', 'meu', 'láudano', 'infelizmente', 'câncer', 'venceu', 'mais', 'uma', 'vez', 'fui', 'num', 'show', 'dele', 'pepsi', 'era', 'funk', 'momento', 'foda', 'demais', 'descanseempaz', '👼', '🏿', '😕', 'httpstcowcj9vzya4u', 'paradisewang', '2015', '👶', '2018', '🤵', 'o', 'dream', 'night', 'foi', 'um', 'web', 'drama', 'pra', 'fazer', 'gente', 'rir', 'produção', 'mas', 'essa', 'propaganda', 'pepsi', 'jackson', 'ma…', 'ontem', 'eu', 'estava', 'metendo', 'louco', 'com', 'uma', 'pepsi', 'mão', 'cantando', 'adultério', 'hoje', 'eu', 'descubro', 'que', 'catra', 'morreu', 'gente', 'segunda', 'noite', 'pepsi', 'center', '08092018hotcarrotgroup🇧🇷24kmagicworldtourfinale24magicworldtourbrunomarsuser', 'insta', 'tbdees', 'brunocarrot24k', '🎶', 'uptown', 'funk~p', 'httpstcoiuu6cn0z2g', 'pepsi', 'qnd', 'ta', 'congelada', 'mas', 'nem', 'tanto', 'nao', 'tem', 'preco', 'paradisewang', '2015', '👶', '2018', '🤵', 'o', 'dream', 'night', 'foi', 'um', 'web', 'drama', 'pra', 'fazer', 'gente', 'rir', 'produção', 'mas', 'essa', 'propaganda', 'pepsi', 'jackson', 'ma…', 'britneyonlinebr', 'fotógrafa', 'randee', 'st', 'nicholas', 'divulgou', 'foto', 'completa', 'britney', 'para', 'pepsi', '🤤', 'httpstcoi2enloh4jp', 'acordei', 'tomei', 'um', 'litro', 'água', 'uma', 'térmica', 'chimarrão', 'uma', 'garrafa', 'pepsi', 'vidro', 'agora', 'meu', 'vô', 'abriu', 'um', 'latão', 'desisti', 'ressaca', 'tô', 'tomando', 'com', 'ele', 'paulino', 'inter', 'percebi', 'quanto', 'odeio', 'rotina', 'quando', 'sexta', 'feira', 'eu', 'peguei', 'uma', 'budweiss', 'mudei', 'para', 'uma', 'stella', 'então', 'ontem', 'peguei', 'uma', 'pepsi', 'invés', 'coca', 'geladinhajá', 'hje', 'fui', 'fanta', 'uva', 'que', 'odeio', 'invés', 'meu', 'guaranáfavorito', 'paradisewang', '2015', '👶', '2018', '🤵', 'o', 'dream', 'night', 'foi', 'um', 'web', 'drama', 'pra', 'fazer', 'gente', 'rir', 'produção', 'mas', 'essa', 'propaganda', 'pepsi', 'jackson', 'ma…', 'no', 'momento', 'tomando', 'uma', 'pepsi', 'geladinha', '🤤', 'btsare7', 'como', 'esquecer', 'dia', 'que', 'jimin', 'mesmo', 'com', 'dificuldade', 'falar', 'em', 'inglês', 'pergunta', 'qual', 'bebida', 'mais', 'famosa', 'doninha', 'diz…', 'eusourafao', 'garrafa', 'pet', 'pepsi', '1l', 'tem', 'um', 'informe', 'bem', 'assim', 'tampa', '“valor', 'máximo', 'sugerido', 'mercado', '350”', 'desgraças', 'ven…', 'amassei', 'pastel', 'com', 'pepsi', '666uni', 'fo', 'se', 'decider', 'coca', 'ou', 'pepsi', 'paradisewang', '2015', '👶', '2018', '🤵', 'o', 'dream', 'night', 'foi', 'um', 'web', 'drama', 'pra', 'fazer', 'gente', 'rir', 'produção', 'mas', 'essa', 'propaganda', 'pepsi', 'jackson', 'ma…', 'atualmente', 'nenhum', 'mas', 'pepsi', 'httpstcoftdremb0c6', 'paradisewang', '2015', '👶', '2018', '🤵', 'o', 'dream', 'night', 'foi', 'um', 'web', 'drama', 'pra', 'fazer', 'gente', 'rir', 'produção', 'mas', 'essa', 'propaganda', 'pepsi', 'jackson', 'ma…', 'uberprintss', 'to', 'tomando', 'uma', 'pepsi', 'posto', '™', 'httpstco2ipu9saqnc', 'vc', 'fofa', 'mas', 'ja', 'viu', 'garrafa', 'pepsi', '1', 'litro', 'paradisewang', '2015', '👶', '2018', '🤵', 'o', 'dream', 'night', 'foi', 'um', 'web', 'drama', 'pra', 'fazer', 'gente', 'rir', 'produção', 'mas', 'essa', 'propaganda', 'pepsi', 'jackson', 'ma…', 'corote', 'limão', 'com', 'coca', 'cola', 'tem', 'gosto', 'pepsi', 'twist', 'pode', 'ser', 'perigoso', 'pepsi', 'twist', 'melhor', 'refrigerante', 'nada', 'mais', 'impoa', 'que', 'minha', 'opinião', 'isapeitos', 'mano', 'uma', 'pepsi', 'que', 'sobreviveu', 'um', 'acidente', 'carro', 'pra', 'poucoss', 'sonha', 'que', 'pepsi', 'paga', 'pepsi', 'com', 'ruffles', 'mt', 'bommm', '24khot', 'segunda', 'noite', 'pepsi', 'center', '08092018hotcarrotgroup🇧🇷24kmagicworldtourfinale', '24magicworldtour', 'brunomars', '~p', 'https…', 'paradisewang', '2015', '👶', '2018', '🤵', 'o', 'dream', 'night', 'foi', 'um', 'web', 'drama', 'pra', 'fazer', 'gente', 'rir', 'produção', 'mas', 'essa', 'propaganda', 'pepsi', 'jackson', 'ma…', 'paradisewang', '2015', '👶', '2018', '🤵', 'o', 'dream', 'night', 'foi', 'um', 'web', 'drama', 'pra', 'fazer', 'gente', 'rir', 'produção', 'mas', 'essa', 'propaganda', 'pepsi', 'jackson', 'ma…', 'paradisewang', '2015', '👶', '2018', '🤵', 'o', 'dream', 'night', 'foi', 'um', 'web', 'drama', 'pra', 'fazer', 'gente', 'rir', 'produção', 'mas', 'essa', 'propaganda', 'pepsi', 'jackson', 'ma…', 'btsare7', 'como', 'esquecer', 'dia', 'que', 'jimin', 'mesmo', 'com', 'dificuldade', 'falar', 'em', 'inglês', 'pergunta', 'qual', 'bebida', 'mais', 'famosa', 'doninha', 'diz…', 'paradisewang', '2015', '👶', '2018', '🤵', 'o', 'dream', 'night', 'foi', 'um', 'web', 'drama', 'pra', 'fazer', 'gente', 'rir', 'produção', 'mas', 'essa', 'propaganda', 'pepsi', 'jackson', 'ma…', 'pra', 'mimindispensável', 'suco', 'pepsi', 'twist', 'sodasprite', 'fanta', 'uva', 'nessa', 'ordem', 'resto', 'pode', 'morre', 'httpstcoofdjfylns7', 'aaybrunomars', '809', '2°', 'show', 'bruno', 'mars', 'pepsi', 'center', 'em', 'denver', '🇺🇸', '📷', 'ig', 'shawnhansson', '24kmagicworldtour', '3', 'httpstcokbcadh…', 'paradisewang', '2015', '👶', '2018', '🤵', 'o', 'dream', 'night', 'foi', 'um', 'web', 'drama', 'pra', 'fazer', 'gente', 'rir', 'produção', 'mas', 'essa', 'propaganda', 'pepsi', 'jackson', 'ma…', 'única', 'pae', 'boa', 'meu', 'dia', 'hj', 'foi', 'coisas', 'q', 'comi', 'sundae', 'doce', 'leite', 'doritos', 'pimenta', 'pepsi', '809', '2°', 'show', 'bruno', 'mars', 'pepsi', 'center', 'em', 'denver', '🇺🇸', '📷', 'ig', 'shawnhansson', '24kmagicworldtour', '3', 'httpstcokbcadht6v1', 'pepsi', 'sem', 'gás', 'tudo', 'paradisewang', '2015', '👶', '2018', '🤵', 'o', 'dream', 'night', 'foi', 'um', 'web', 'drama', 'pra', 'fazer', 'gente', 'rir', 'produção', 'mas', 'essa', 'propaganda', 'pepsi', 'jackson', 'ma…', 'a', 'esquerda', 'tudo', 'burra', 'inteligente', 'olavo', 'carvalho', 'que', 'diz', 'que', 'pepsi', 'coloca', 'feto', 'refri', 'kkkkkkk', 'bspearsbr', '📢', 'notícia', '📢', 'randee', 'divulga', 'em', 'seu', 'instagram', 'foto', 'original', 'pepsi', '2018', 'httpstcod2wjmkdndv', 'paradisewang', '2015', '👶', '2018', '🤵', 'o', 'dream', 'night', 'foi', 'um', 'web', 'drama', 'pra', 'fazer', 'gente', 'rir', 'produção', 'mas', 'essa', 'propaganda', 'pepsi', 'jackson', 'ma…', 'paradisewang', '2015', '👶', '2018', '🤵', 'o', 'dream', 'night', 'foi', 'um', 'web', 'drama', 'pra', 'fazer', 'gente', 'rir', 'produção', 'mas', 'essa', 'propaganda', 'pepsi', 'jackson', 'ma…', 'bbbscomenta', 'pepsi', 'maior', 'melhor', 'btsare7', 'como', 'esquecer', 'dia', 'que', 'jimin', 'mesmo', 'com', 'dificuldade', 'falar', 'em', 'inglês', 'pergunta', 'qual', 'bebida', 'mais', 'famosa', 'doninha', 'diz…', 'brunomarskatz', 'td', '182', '~', 'pepsicenterdenver', 'co', '9718', 'pepsicenter', 'pepsicenterbrunomars', 'ブルーノマーズ', 'brunomarsfans', 'hooligans', '24k…', 'na', 'garrafa', 'pet', 'pepsi', '1l', 'tem', 'um', 'informe', 'bem', 'assim', 'tampa', '“valor', 'máximo', 'sugerido', 'mercado', '350”', 'desgraças', 'vendem', 'tudo', '5', 'reais', 'so', 'queria', 'uma', 'pepsi', 'gelada', 'afim', 'tomar', 'uma', 'pepsi', 'twist', 'bem', 'geladinha', 'porém', 'não', 'posso', 'doente', 'uma', 'miséria', 'aaybrunomars', '809', '2°', 'show', 'bruno', 'mars', 'pepsi', 'center', 'em', 'denver', '🇺🇸', '📷', 'ig', 'shawnhansson', '24kmagicworldtour', '3', 'httpstcokbcadh…', 'caiocgomes', 'se', 'eu', 'gosto', 'pepsi', 'mas', 'você', 'não', 'me', 'conhece', 'ainda', 'há', 'chance', 'eu', 'ser', 'genial', 'vai', 'ter', 'masterclass', 'érico', 'rocha', 'pepsi', 'on', 'stage', 'queria', 'só', 'faltava', 'uma', 'coquinha', 'ou', 'pepsi', 'paradisewang', '2015', '👶', '2018', '🤵', 'o', 'dream', 'night', 'foi', 'um', 'web', 'drama', 'pra', 'fazer', 'gente', 'rir', 'produção', 'mas', 'essa', 'propaganda', 'pepsi', 'jackson', 'ma…', 'demistyiish', 'britney', 'ctz', 'tem', 'campanha', 'com', 'foto', 'dela', 'latinhas', 'pepsi', '4', 'cantos', 'us', 'kkkk', 'se', 'nao', 'for', 'ela', 'vai', 'ser', 'um', 'tombo', 'enorme', 'mas', 'se', 'for', 'rihanna', 'fico', 'feliz', 'tbm', 'britneyonlinebr', 'fotógrafa', 'randee', 'st', 'nicholas', 'divulgou', 'foto', 'completa', 'britney', 'para', 'pepsi', '🤤', 'httpstcoi2enloh4jp', 'água', 'cocapepsibrahmaantáica', 'geladinha', 'aaybrunomars', '709809', 'denver', 'colorado', '🇺🇸', '24kmagicworldtour', '📍', 'pepsi', 'center', '📍', 'capacidade', '20000', '📍', 'horário', 'previsto', '2115', 'hora…', 'eu', 'agora', 'comeria', 'muito', 'facilmente', 'um', 'pratão', 'arroz', 'feijão', 'tropeiro', 'medalhão', 'frango', 'com', 'bacon', 'vinagrete', 'um', 'copão', 'cheio', 'pepsi', 'pra', 'acompanhar', 'e', 'eu', 'q', 'bati', 'olho', 'achei', 'q', 'fosse', 'propaganda', 'pepsi', 'kkkkkkkkk', 'httpstconk3vam4qd8', 'bspearsbr', '📢', 'notícia', '📢', 'randee', 'divulga', 'em', 'seu', 'instagram', 'foto', 'original', 'pepsi', '2018', 'httpstcod2wjmkdndv', 'maisbritney', '🚨', 'notíciasbritneyarmyrandee', 'st', 'nicholas', 'divulgou', 'em', 'seu', 'instagram', 'foto', 'original', 'britneyspears', 'para', 'pepsi…', 'thtxr', 'zé', 'tá', 'com', 'uma', 'ressaca', 'crl', 'já', 'bebeu', '2litros', 'pepsi', 'kkkkkk', 'pepsi', 'twist', 'muito', 'bom', 'pqp', 'paradisewang', '2015', '👶', '2018', '🤵', 'o', 'dream', 'night', 'foi', 'um', 'web', 'drama', 'pra', 'fazer', 'gente', 'rir', 'produção', 'mas', 'essa', 'propaganda', 'pepsi', 'jackson', 'ma…', 'bspearsbr', '📢', 'notícia', '📢', 'randee', 'divulga', 'em', 'seu', 'instagram', 'foto', 'original', 'pepsi', '2018', 'httpstcod2wjmkdndv', 'joyfoluc', 'passaroserosas', 'maufalavigna', 'pombococo', 'craudin', 'olavinha88', 'ladycrow', 'absinto', 'virou', 'bebida', 'oficial', 'esquerdistas', 'poxa', 'eu', 'pensei', 'que', 'fosse', 'pepsi', 'kkkkk', 'e', 'minha', 'mãe', 'que', 'tá', 'fazendo', 'um', 'bolo', 'chocolate', 'nada', 'ela', 'coloca', 'pepsi', 'massa', 'pepsi', 'twist', 'será', 'minha', 'moe', 'n', 'existe', 'nada', 'mais', 'gostoso', 'vai', 'se', 'fude', 'bspearsbr', '📢', 'notícia', '📢', 'randee', 'divulga', 'em', 'seu', 'instagram', 'foto', 'original', 'pepsi', '2018', 'httpstcod2wjmkdndv', 'paradisewang', '2015', '👶', '2018', '🤵', 'o', 'dream', 'night', 'foi', 'um', 'web', 'drama', 'pra', 'fazer', 'gente', 'rir', 'produção', 'mas', 'essa', 'propaganda', 'pepsi', 'jackson', 'ma…', 'preciso', 'uma', 'pepsi', 'bem', 'gelada', 'real', 'paradisewang', '2015', '👶', '2018', '🤵', 'o', 'dream', 'night', 'foi', 'um', 'web', 'drama', 'pra', 'fazer', 'gente', 'rir', 'produção', 'mas', 'essa', 'propaganda', 'pepsi', 'jackson', 'ma…', 'bebendo', 'pepsi', 'eu', 'tô', 'ápice', 'tô', 'morrendo', 'tanto', 'tossir', 'mas', 'se', 'alguém', 'me', 'oferecer', 'uma', 'pepsi', 'bem', 'gelada', 'eu', 'aceito', '😋', 'gente', 'impressão', 'minha', 'ou', 'não', 'tem', 'mais', 'propaganda', 'pepsi', 'ingriddsantoss', 'ano', '2012show', 'forfun', 'pepsi', 'gurizada', 'metendo', 'aquece', 'rua', 'aguardando', 'ansiosamente', 'começa', 'showhidrop…', 'pepsi', 'melhor', 'refrigerante', 'mundo', 'paradisewang', '2015', '👶', '2018', '🤵', 'o', 'dream', 'night', 'foi', 'um', 'web', 'drama', 'pra', 'fazer', 'gente', 'rir', 'produção', 'mas', 'essa', 'propaganda', 'pepsi', 'jackson', 'ma…', 'bixo', 'eu', 'amo', 'pepsi', 'mdsss', 'paradisewang', '2015', '👶', '2018', '🤵', 'o', 'dream', 'night', 'foi', 'um', 'web', 'drama', 'pra', 'fazer', 'gente', 'rir', 'produção', 'mas', 'essa', 'propaganda', 'pepsi', 'jackson', 'ma…', 'wesnercagliari', 'olavete', 'vc', 'sabia', 'que', 'pepsi', 'cola', 'usa', 'células', 'fetos', 'aboados', 'pra', 'adoçar', 'seus', 'refrigerantes', 'caso', 'vc', 'consuma', 'você', 'pode', 'ser', 'considerado', 'um', 'aboista', 'terceirizado', 'dizer', 'isso', 'sim', 'cagar', 'pela', 'boca', 'assinar', 'um', 'atestado', 'estupidez', 'incontestável', '24khot', 'segunda', 'noite', 'pepsi', 'center', '08092018hotcarrotgroup🇧🇷24kmagicworldtourfinale', '24magicworldtour', 'brunomars', '~p', 'https…', 'paradisewang', '2015', '👶', '2018', '🤵', 'o', 'dream', 'night', 'foi', 'um', 'web', 'drama', 'pra', 'fazer', 'gente', 'rir', 'produção', 'mas', 'essa', 'propaganda', 'pepsi', 'jackson', 'ma…', '24khot', 'segunda', 'noite', 'pepsi', 'center', '08092018hotcarrotgroup🇧🇷24kmagicworldtourfinale24magicworldtourbrunomarsuser', 'insta', 'tb…', 'vei', 'essa', 'pepsi', 'gengibre', '&lt3', 'ingriddsantoss', 'ano', '2012show', 'forfun', 'pepsi', 'gurizada', 'metendo', 'aquece', 'rua', 'aguardando', 'ansiosamente', 'começa', 'showhidrop…', 'bcaalian', 'kkkkkkk', 'jamais', 'uma', 'necessidade', 'minha', 'pepsi', 'twist', 'salgado', 'paradisewang', '2015', '👶', '2018', '🤵', 'o', 'dream', 'night', 'foi', 'um', 'web', 'drama', 'pra', 'fazer', 'gente', 'rir', 'produção', 'mas', 'essa', 'propaganda', 'pepsi', 'jackson', 'ma…', 'ingriddsantoss', 'ano', '2012show', 'forfun', 'pepsi', 'gurizada', 'metendo', 'aquece', 'rua', 'aguardando', 'ansiosamente', 'começa', 'showhidrop…', 'paradisewang', '2015', '👶', '2018', '🤵', 'o', 'dream', 'night', 'foi', 'um', 'web', 'drama', 'pra', 'fazer', 'gente', 'rir', 'produção', 'mas', 'essa', 'propaganda', 'pepsi', 'jackson', 'ma…', 'britneyonlinebr', 'fotógrafa', 'randee', 'st', 'nicholas', 'divulgou', 'foto', 'completa', 'britney', 'para', 'pepsi', '🤤', 'httpstcoi2enloh4jp', 'maisbritney', '🚨', 'notíciasbritneyarmyrandee', 'st', 'nicholas', 'divulgou', 'em', 'seu', 'instagram', 'foto', 'original', 'britneyspears', 'para', 'pepsi…', 'bspearsbr', '📢', 'notícia', '📢', 'randee', 'divulga', 'em', 'seu', 'instagram', 'foto', 'original', 'pepsi', '2018', 'httpstcod2wjmkdndv', 'paradisewang', '2015', '👶', '2018', '🤵', 'o', 'dream', 'night', 'foi', 'um', 'web', 'drama', 'pra', 'fazer', 'gente', 'rir', 'produção', 'mas', 'essa', 'propaganda', 'pepsi', 'jackson', 'ma…', 'paradisewang', '2015', '👶', '2018', '🤵', 'o', 'dream', 'night', 'foi', 'um', 'web', 'drama', 'pra', 'fazer', 'gente', 'rir', 'produção', 'mas', 'essa', 'propaganda', 'pepsi', 'jackson', 'ma…', 'blackorjackson', 'pepsi', 'lança', 'latinhas', 'com', 'foto', 'mike', 'não', 'tem', 'brasil', 'países', 'fazem', 'tributo', 'em', 'comemoração', '60', 'anos', 'michael…', 'paradisewang', '2015', '👶', '2018', '🤵', 'o', 'dream', 'night', 'foi', 'um', 'web', 'drama', 'pra', 'fazer', 'gente', 'rir', 'produção', 'mas', 'essa', 'propaganda', 'pepsi', 'jackson', 'ma…', 'pepsi', 'mt', 'melhor', 'q', 'coca', 'nada', 'como', 'uma', 'bacia', 'pipoca', 'uma', 'pepsi', 'durante', 'uma', 'madrugada', 'tediosa']\n"
     ]
    }
   ],
   "source": [
    "#listando palavras que compõem os tweets relevantes\n",
    "lista_palavras_relevantes = []\n",
    "for frase_relevante in pepsi_relevante[\"Treinamento\"]:\n",
    "    for palavra_relevante in frase_relevante.split():\n",
    "        lista_palavras_relevantes.append(palavra_relevante)\n",
    "print(lista_palavras_relevantes)"
   ]
  },
  {
   "cell_type": "code",
   "execution_count": 24,
   "metadata": {
    "scrolled": true
   },
   "outputs": [
    {
     "name": "stdout",
     "output_type": "stream",
     "text": [
      "['como', 'fazer', 'um', 'quadcopter', 'caseiro', 'elétrico', 'drone', 'com', 'latinha', 'refrigerantepepsi', '080918', 'httpstcomv5e2vlqmc', 'httpstconnvnrwwfhw', 'vaijuanc', 'britney', 'parceira', 'pepsi', 'décadas', 'kkk', 'qual', 'novidade', 'fetos', 'aboados', 'pepsi', 'saudavel', 'recomendo', 'bspearsbr', '📢', 'notícia', '📢', 'randee', 'divulga', 'em', 'seu', 'instagram', 'foto', 'original', 'pepsi', '2018', 'httpstcod2wjmkdndv', 'eu', 'tô', 'muito', 'podre', 'só', 'bebi', 'pepsi', 'ontem', 'gostei', 'um', 'vídeo', 'youtube', 'httpstcor7pvsiwimk', 'cola', 'vs', 'pepsi', 'pae', '2', 'httpstcopjyproe4wd', 'sambote', 'velho', 'barreiro', 'com', 'pepsi', 'banho', 'né', 'julyabergamasco', 'simmmm', 'vou', 'ter', 'que', 'ensinar', 'pepsi', 'tirar', 'fotos', 'pra', 'mim', 'kkkk', 'carlosbolsonaro', 'não', 'foi', 'lei', 'proibição', 'arma', 'fogo', 'que', 'salvou', 'bolsonaro', 'foi', 'deus', 'estado', 'onde', 'tentaram', 'matar', 'meu', 'pai', 'também…', 'anterogreco', 'admiro', 'sua', 'paciência', 'para', 'lidar', 'com', 'haters', 'parabénseles', 'surfam', 'nova', 'onda', 'youtubers', 'neocons', 'radicais', 'vídeo', 'game', 'filhinhos', 'papai', 'que', 'tentam', 'escrever', 'novo', 'história', 'hitler', 'esquerda', 'obama', 'comunista', 'ídolo', 'deles', 'um', 'astrólogo', 'que', 'não', 'gosta', 'pepsi', 'como', 'assim', 'pedi', 'coca', 'cola', 'restaurante', 'cota', 'chegou', 'com', 'pepsi', 'disse', '“aqui', 'está', 'coca', 'cola”', 'coca', 'ou', 'pepsi', 'porque', 'frutty', '—', 'pepsi', 'httpstcopv0jezo6p9', 'negomalin', 'caralho', 'mlk', 'derramou', 'pepsi', '8', 'vezes', '😯', '😯', '😯', '😯', 'annefranknacoca', 'resultado', 'colocadoinstituição', '1108', 'campo', 'concentração', 'auschwitzcurso', '9813', 'engenharia', 'química', 'combu…', 'ahaha', 'agr', 'recebi', 'pro', 'seagull', 'é', 'assim', 'q', 'pessoas', 'bebem', 'pepsi', '🤣', 'httpstcofjtbckbnei', 'goticas', 'praianas', 'httpstcodh8i3lolbn', 'odiodobem2', 'que', 'bom', 'que', 'você', 'se', 'dá', 'esse', 'trabalho', 'obrigado', 'verdade', 'se', 'expor', 'todo', 'esse', 'ódio', 'para', 'expor', 'essa', 'gente', 'blanc7spax', 'myukishakedojin', 'daqui', 'pouco', 'tá', 'tomando', 'dolly', 'fanta', 'spritepepsi', 'ai', 'vaaai', 'minha', 'buceta', 'tem', 'gosto', 'pepsi', 'cola', 'tô', 'me', 'entupindo', 'cebolitos', 'pepsi', 'tomar', 'pepsi', 'copo', 'ervilha', 'escutando', 'gaita', 'paiu', 'vovô', 'semana', 'que', 'vem', 'caralho', 'mlk', 'derramou', 'pepsi', '8', 'vezes', '😯', '😯', '😯', '😯', 'nao', 'gosta', 'pepsi', 'entao', 'nao', 'toma', 'retardado', 'que', 'comer', 'negocio', 'mas', 'deixa', 'pros', 'outros', 'merda', 'impressão', 'minha', 'ou', 'esse', 'nome', 'pepsi', 'causa', 'uma', 'música', 'lana', '—', 'não', 'impressão', 'sua', 'kkkkk', 'httpstco6kln1bjqld', 'muhammadpuncha', 'será', 'que', 'cara', 'que', 'tentou', 'matar', 'bozonaro', 'não', 'um', 'desses', 'fetos', 'aboados', 'pepsi', 'que', 'cresceu', 'foi', 'nutrido', 'peito…', 'oiluiz', 'também', 'acho', 'que', 'não', 'crime', 'mas', 'se', 'vejo', 'um', 'conhecido', 'fazendo', 'me', 'desassocio', 'cansei', 'tolerar', 'vermes', 'my', 'pussy', 'taste', 'like', 'pepsi', 'cola', '😏', 'não', 'olhem', 'tradução', 'marcelotas', 'você', 'um', 'verme', 'imundo', 'sabe', 'que', 'está', 'errado', 'mas', 'continua', 'posando', 'politicamente', 'correto', 'em', 'detrimento', 'uma', 'solução', 'para', 'dezenas', 'milhares', 'vítimas', 'violência', 'que', 'morrem', 'cada', 'ano', 'brasil', 'se', 'fosse', 'seu', 'cu', 'sem', 'muro', 'alto', 'reta', 'aí', 'seria', 'bem', 'diferente', 'pepsi', 'café', 'manhã', 'que', 'erro', 'dannyamendola', 'pepsi', 'dolphins', 'vou', 'chorar', 'e', 'minha', 'hailey', 'alguma', 'pepsi', 'para', 'ser', '2ª', 'opção', 'httpstcouy8vd4yivp', 'belaaraujo', 'eu', 'sou', 'em', 'refrigerante', 'menos', 'pepsi', 'boladão', 'tomando', 'pepsi', 'saahazvd', 'anavrocha', 'jub1997', 'doidona', 'pepsi', 'vcs', 'ficaram', 'hein', 'hj', 'vamos', 'jogar', 'tarot', 'praia', 'to', 'nervoser', 'depressao', 'um', 'bagulho', 'mt', 'foda', 'minha', 'amiga', 'ta', 'em', 'crise', 'eu', 'nao', 'sei', 'que', 'fazer', 'eu', 'sei', 'muito', 'bem', 'como', 'mas', 'cada', 'um', 'lida', 'cm', 'sua', 'dor', 'um', 'jeito', 'nada', 'que', 'eu', 'fale', 'agora', 'vai', 'adiantar', 'desperdicei', 'uma', 'pepsi', 'pepsi', 'me', 'deixou', 'mal', 'como', 'kkkkkkkkllll', 'hegashe', 'eu', 'pedi', 'uma', 'coca', 'dei', '10', 'voltei', 'com', '4', 'ainda', 'recebi', 'uma', 'pepsi', 'alisonescob4r', 'quem', 'ela', 'pensa', 'q', 'esfregando', 'essa', 'porra', 'em', 'mim', 'noite', 'inteiraaaaaaaaa', 'pepsi', 'que', 'aguarde', 'porque', 'zona', 'sul', 'já', 'foi…', 'rachadell', 'tmarcondess', 'teve', 'uma', 'hora', 'que', 'eu', 'dei', 'uma', 'latinha', 'pepsi', 'para', 'ti', 'falei', 'que', 'era', 'lolo', 'tu', 'ficou', 'igual', 'um', 'idiota', 'baforando', 'aquilo', 'kkkkk', 'derramei', 'minha', 'pepsi', '350', 'minha', 'cama', 'eu', 'tô', 'muito', 'triste', 'imagens', 'que', 'me', 'deixam', 'emocionada', 'httpstco4ymiyz91hr', 'biagomes0', 'você', 'prefere', 'catu', 'com', 'pepsi', 'que', 'eu', 'to', 'ligado', 'kr00ni', 'bloco', 'minha', 'bag', 'bloco', 'minha', 'bagsempre', 'falo', 'xé', 'codein', 'minha', 'pepsisabe', 'como', 'fama', 'tipo', 'gretchenninja', 'tenho', 'fé', 'iss…', 'nao', 'tirei', 'nenhuma', 'foto', 'close', 'praia', 'eh', 'um', 'milagre', 'desço', 'pra', 'pegar', 'vodka', 'com', 'pepsi', 'ou', 'nao', 'vou', 'encher', 'cu', 'pepsi', 'derramei', 'pepsi', 'cama', 'meu', 'único', 'alimento', 'dia', 'será', 'que', 'cara', 'que', 'tentou', 'matar', 'bozonaro', 'não', 'um', 'desses', 'fetos', 'aboados', 'pepsi', 'que', 'cresceu', 'foi', 'nutrido', 'peito', 'george', 'soros', 'bruzzcutseason', 'sobe', 'aqui', 'só', 'quem', 'tem', 'órgão', 'genital', 'com', 'gosto', 'pepsi', 'cola', 'httpstcoyje6jlkqfv', '7bmwsa', 'mazdasa', 'toyotasa', 'hyundaisa', 'volkswagensa', 'dischem', 'mrpfashion', 'imperiallogist', 'imperialchp', 'brownestate', 'nestlesa', 'loreal', 'pepsisa', 'makrosa', 'clickssa', 'picknpay', 'shopritesa', 'knlclcontact', '27', '84', '229', '5752', 'email', 'charlieraebemyaliasgmailcom', 'sobe', 'aqui', 'só', 'quem', 'tem', 'órgão', 'genital', 'com', 'gosto', 'pepsi', 'cola', 'httpstcoyje6jlkqfv', 'tô', 'nem', 'entendendo', 'coca', 'cola', 'com', 'gosto', 'pepsi', 'trocaram', 'rótulos', '👎', 'codein', 'minha', 'pepsi', 'isapeitos', 'amiga', 'conta', 'historia', 'superação', 'pra', 'ela', 'eu', 'terminei', 'um', 'relacionamento', 'não', 'superei', 'nao', 'amiga', 'historia', 'super…', 'mebeijavcs', 'alyciaprovost', 'meu', 'deus', 'que', 'post', 'mais', 'lindo', 'eu', 'chorei', 'socorro', 'com', 'direito', 'pepsi', '600', 'p', 'ela', 'httpstcoszdprdqvin', 'só', 'quero', 'se', 'for', 'assim', 'agora', 'httpstcodpzt04lmno', 'há', '0001%', 'álcool', 'em', 'cada', 'litro', 'coca', 'cola', 'pepsi', 'observaldo', 'mais', 'um', 'httpstco0z5spudike', 'alexbaalo', 'não', 'preciso', 'falar', 'nd', 'httpstcor6wderrmzu', '♪♫', 'minha', 'bunda', 'tem', 'gosto', 'pepsi', 'colaeu', 'tenho', 'preferência', 'homens', 'mais', 'velhossempre', 'foi', 'assim', 'então', 'não', 'nenhuma', 'surpresa', '♪♫', '—', 'ouvindo', 'lana', 'del', 'rey', 'cola', 'e', 'eles', 'ainda', 'bugaram', 'mulher', 'ela', 'oferecia', 'pespi', 'ai', 'respondiam', 'twist', 'ai', 'ela', 'perguntava', 'pepsi', 'twist', 'eles', 'isso', 'sprite', 'não', 'pepsi', 'twist', 'não', 'moça', 'duas', 'twist', 'um', 'sprit', 'kkkkkkkkkkkkk', '2', 'estão', 'fleando', 'comigo', 'eu', 'tomando', 'pepsi', 'vendo', 'uma', 'professora', 'sem', 'classe', 'pedrorcelino', 'tu', 'deve', 'ser', 'daqueles', 'q', 'fica', 'uiui', 'pepsi', 'melhor', 'q', 'coca', 'cola', 'vai', 'teu', 'butico', 'vai', 'carioquinha', 'merda', 'beardednerd', 'eu', 'to', 'focando', 'beber', 'coca', 'cola', 'caso', 'comer', 'pepsimas', 'tô', 'com', 'medo', 'deus', 'promessas', 'não', 'ser', 'tão', 'flexível', 'quanto', 'eu', 'entendimento', 'manucbss', 'pelo', 'visto', 'só', 'pepsi', 'hjshhshshs', 'o', 'pepsi', 'ser', 'cona', 'não', 'saber', 'quem', 'gostar', 'pk', 'ele', 'ser', 'cona', '😇', '—', 'httpstcotthquds10u', 'giaretf', 'tem', 'umas', 'pessoas', 'que', 'entram', 'vida', 'gente', 'que', 'gente', 'só', 'ficaaonde', 'você', 'tava', 'esse', 'tempo', 'todo', 'meu', 'anjo', 'emilyjbieber63', 'kk', 'ai', 'men', 've', 'uma', 'pepsi', 'aídei', '20o', 'mano', 'me', 'volta', '14', 'fiquei', 'httpstco0omi5ez0jr', 'joga', 'pepsi', 'que', 'eu', 'to', 'chato2', 'pacotes', 'biscoito', 'meu', 'prato', 'se', 'bem', 'que', 'td', 'bebendo', 'uma', 'pepsi', 'enchendo', 'cu', 'bestera', 'fica', 'legalabre', 'uma', 'bem', 'gelada', 'pra', 'ae', 'nome', 'radialista', 'que', 'eu', 'esqueci', '~~tsc~~aaaaaaaaaaah', 'hojeontem', 'bebi', 'pepsi', 'agua', 'suco', 'noite', 'to', 'caminho', 'ceo', 'httpstcormcycczdjs', 'negomalin', 'caralho', 'mlk', 'derramou', 'pepsi', '8', 'vezes', '😯', '😯', '😯', '😯', 'agroanjo', 'hahahahaha', 'pior', 'que', 'não', 'mas', 'bebi', 'conhaque', 'com', 'pepsi', 'não', 'tomo', 'mais', 'refri', 'fazia', 'tempo', 'que', 'não', 'bebia', 'amiga', 'conta', 'historia', 'superação', 'pra', 'ela', 'eu', 'terminei', 'um', 'relacionamento', 'não', 'superei', 'nao', 'amiga', 'historia', 'superação', 'pepsi', 'bolsonaro', '2018', 'que', 'tite', 'tome', 'muita', 'pepsi', 'cola', 'esse', 'sujeito', 'não', 'merece', 'experimentar', 'sabor', 'uma', 'dolly', 'citrus', 'imaginem', 'cocacola', 'acuada', 'pela', 'pepsi', 'mudando', 'sua', 'fórmula', 'pra', 'algo', 'próximo', 'concorrente', 'marketing', 'político', 'não', 'diferente', 'se', 'jairbolsonaro', 'passasse', 'ser', \"'paz\", \"amor'\", 'ter', 'tomado', 'uma', 'facada', 'quase', 'moal', 'estar', 'hospitalizado', 'jogaria', 'lixo', 'sua', 'marca', 'postura', 'pepsicuela', 'pepsi', 'eu', 'moro', 'mei', 'longe', 'ai', 'eu', 'vo', 'p', 'ai', 'p', 'toma', 'garapa', 'realpfigueiredo', 'lula', 'teve', '80%', 'popularidade', 'em', 'seu', 'mandato', 'não', 'implantou', 'comunismo', 'nenhum', 'vai', 'ser', 'agora', 'com', 'um', 'crescimento', 'sua', 'rejeição', 'que', 'vão', 'implantar', 'alguma', 'coisa', 'kkkkkk', 'pessoas', 'acreditam', 'em', 'feto', 'humano', 'pepsi', 'guigaknf', 'belinha', 'falo', 'q', 'pepsi', 'ia', 'brotar', 'com', 'ela', 'pra', 'fzr', 'felicidade', 'dele', '😅', '😦', 'eu', 'fiz', 'uma', 'promessa', 'não', 'beber', 'coca', 'cola', 'mas', 'quero', 'fazer', 'uma', 'receita', 'que', 'vai', 'coca', 'estarei', 'quebrando', 'promessa', 'se', 'usar', 'pepsi', 'eles', 'bebem', 'mais', 'pepsi', 'que', 'coca', 'cola', 'ambas', 'são', 'muito', 'mais', 'doces', 'que', 'aqui', 'alesantuchi', 'eu', 'não', 'coloco', 'limão', 'pq', 'nao', 'confio', 'restaurantes', 'expondo', 'essa', 'fruta', 'ambiente', 'depois', 'coado', 'exposto', 'limão', 'absorve', 'tudo', 'ambiente', 'mas', 'gostoso', 'sim', 'para', 'lembrar', 'eu', 'bebo', 'pepsi', 'twist', 'ixisadora', 'sonha', 'que', 'pepsi', 'paga', 'daegenius', 'eu', 'tava', 'pensando', 'mensagens', 'subliminares', 'que', 'botam', 'trás', 'logos', 'tipo', 'eu', 'li', 'um', 'negócio', 'sobre', 'pepsi', 'ou', 'coca', 'cola', 'era', 'meio', 'bizarro', 'essa', 'antaica', 'black', 'parece', 'mt', 'pepsi', 'como', 'fazer', 'um', 'quadcopter', 'caseiro', 'elétrico', 'drone', 'com', 'latinha', 'refrigerantepepsi', '080918', 'httpstcohckge4e2ab', 'httpstcoksv9qhu5re', 'voce', 'gosta', 'pepsipq', 'minha', 'pussy', 'tem', 'esse', 'gostinho', 'quer', 'provaraskfandoms', 'quem', 'ela', 'pensa', 'q', 'esfregando', 'essa', 'porra', 'em', 'mim', 'noite', 'inteiraaaaaaaaa', 'pepsi', 'que', 'aguarde', 'porque', 'zona', 'sul', 'já', 'foi', '👋', '🏻', '\\U0001f91f', '🏻', '🔥', 'não', 'tem', 'coca', 'só', 'pepsi', 'pode', 'ser', 'httpstcorja1lmonth']\n"
     ]
    }
   ],
   "source": [
    "#listando palavras que compõem os tweets irrelevantes\n",
    "lista_palavras_irrelevantes = []\n",
    "for frase_irrelevante in pepsi_irrelevante[\"Treinamento\"]:\n",
    "    for palavra_irrelevante in frase_irrelevante.split():\n",
    "        lista_palavras_irrelevantes.append(palavra_irrelevante)\n",
    "print(lista_palavras_irrelevantes)"
   ]
  },
  {
   "cell_type": "code",
   "execution_count": 25,
   "metadata": {},
   "outputs": [
    {
     "name": "stdout",
     "output_type": "stream",
     "text": [
      "['como', 'fazer', 'um', 'quadcopter', 'caseiro', 'elétrico', 'drone', 'com', 'latinha', 'refrigerantepepsi', '080918', 'httpstcomv5e2vlqmc', 'httpstconnvnrwwfhw', 'paradisewang', '2015', '👶', '2018', '🤵', 'o', 'dream', 'night', 'foi', 'um', 'web', 'drama', 'pra', 'fazer', 'gente', 'rir', 'produção', 'mas', 'essa', 'propaganda', 'pepsi', 'jackson', 'ma…', 'vaijuanc', 'britney', 'parceira', 'pepsi', 'décadas', 'kkk', 'qual', 'novidade', 'mais', 'uma', 'madrugada', 'chao', 'banheiro', 'chorando', 'com', 'minha', 'fiel', 'companheira', 'garrafa', 'pepsi', 'fetos', 'aboados', 'pepsi', 'saudavel', 'recomendo', 'paradisewang', '2015', '👶', '2018', '🤵', 'o', 'dream', 'night', 'foi', 'um', 'web', 'drama', 'pra', 'fazer', 'gente', 'rir', 'produção', 'mas', 'essa', 'propaganda', 'pepsi', 'jackson', 'ma…', 'aaybrunomars', '709809', 'denver', 'colorado', '🇺🇸', '24kmagicworldtour', '📍', 'pepsi', 'center', '📍', 'capacidade', '20000', '📍', 'horário', 'previsto', '2115', 'hora…', 'rgonza', 'pepsibr', 'prefiro', 'pepsi', 'que', 'coca', 'cola', 'exemplo', 'mas', 'um', 'saco', 'tem', 'que', 'forcejar', 'pra', 'abrir', 'uma', 'garrafa', 'que', 'chega', 'estufar', 'paradisewang', '2015', '👶', '2018', '🤵', 'o', 'dream', 'night', 'foi', 'um', 'web', 'drama', 'pra', 'fazer', 'gente', 'rir', 'produção', 'mas', 'essa', 'propaganda', 'pepsi', 'jackson', 'ma…', 'bspearsbr', '📢', 'notícia', '📢', 'randee', 'divulga', 'em', 'seu', 'instagram', 'foto', 'original', 'pepsi', '2018', 'httpstcod2wjmkdndv', 'nada', 'melhor', 'que', 'tomar', 'uma', 'pepsi', 'eu', 'tô', 'muito', 'podre', 'só', 'bebi', 'pepsi', 'ontem', 'gostei', 'um', 'vídeo', 'youtube', 'httpstcor7pvsiwimk', 'cola', 'vs', 'pepsi', 'pae', '2', 'httpstcopjyproe4wd', 'britneyonlinebr', 'fotógrafa', 'randee', 'st', 'nicholas', 'divulgou', 'foto', 'completa', 'britney', 'para', 'pepsi', '🤤', 'httpstcoi2enloh4jp', 'britneyonlinebr', 'fotógrafa', 'randee', 'st', 'nicholas', 'divulgou', 'foto', 'completa', 'britney', 'para', 'pepsi', '🤤', 'httpstcoi2enloh4jp', 'aaybrunomars', '709809', 'denver', 'colorado', '🇺🇸', '24kmagicworldtour', '📍', 'pepsi', 'center', '📍', 'capacidade', '20000', '📍', 'horário', 'previsto', '2115', 'hora…', 'agora', 'só', 'pepsi', 'httpstcofshk8ozwwn', 'btsare7', 'como', 'esquecer', 'dia', 'que', 'jimin', 'mesmo', 'com', 'dificuldade', 'falar', 'em', 'inglês', 'pergunta', 'qual', 'bebida', 'mais', 'famosa', 'doninha', 'diz…', 'sambote', 'velho', 'barreiro', 'com', 'pepsi', 'banho', 'né', 'matei', '4', 'pãozinhos', 'com', 'queijo', 'presunto', 'uma', 'pepsi', 'bem', 'gelada', 'julyabergamasco', 'simmmm', 'vou', 'ter', 'que', 'ensinar', 'pepsi', 'tirar', 'fotos', 'pra', 'mim', 'kkkk', 'vender', 'coca', 'cola', 'em', 'copos', 'pepsi', '👏', '👏', '👏', 'carlosbolsonaro', 'não', 'foi', 'lei', 'proibição', 'arma', 'fogo', 'que', 'salvou', 'bolsonaro', 'foi', 'deus', 'estado', 'onde', 'tentaram', 'matar', 'meu', 'pai', 'também…', 'hoje', 'uma', 'amiga', 'minha', 'veio', 'almoçar', 'aqui', 'pedi', 'pra', 'ela', 'trazer', 'um', 'refriela', 'trouxe', 'pepsi', 'quem', 'que', 'compra', 'pepsi', 'gente', 'agora', 'que', 'percebi', 'que', 'tem', 'logo', 'pepsi', 'ali', 'meio', 'hahauzuau', 'bspearsbr', '📢', 'notícia', '📢', 'randee', 'divulga', 'em', 'seu', 'instagram', 'foto', 'original', 'pepsi', '2018', 'httpstcod2wjmkdndv', 'anterogreco', 'admiro', 'sua', 'paciência', 'para', 'lidar', 'com', 'haters', 'parabénseles', 'surfam', 'nova', 'onda', 'youtubers', 'neocons', 'radicais', 'vídeo', 'game', 'filhinhos', 'papai', 'que', 'tentam', 'escrever', 'novo', 'história', 'hitler', 'esquerda', 'obama', 'comunista', 'ídolo', 'deles', 'um', 'astrólogo', 'que', 'não', 'gosta', 'pepsi', 'pepsi', 'bk', 'amais', 'expliquem', 'me', 'porque', 'que', 'eu', 'trouxe', 'para', 'casa', 'uma', 'pepsi', 'se', 'eu', 'nem', 'gosto', 'pepsi', 'como', 'assim', 'pedi', 'coca', 'cola', 'restaurante', 'cota', 'chegou', 'com', 'pepsi', 'disse', '“aqui', 'está', 'coca', 'cola”', 'paesjunior7', 'aposto', 'uma', 'trakinas', 'c', 'pepsi', 'q', 'grêmio', 'ganha', 'acho', 'que', 'nunca', 'tomei', 'tanta', 'pepsi', 'como', 'nesse', 'feriado', 'em', 'menos', '24h', 'eu', 'tomei', 'quase', '25', 'l', 'pepsisim', 'prefiro', 'pepsi', 'que', 'coca', 'me', 'julguem', 'bspearsbr', '📢', 'notícia', '📢', 'randee', 'divulga', 'em', 'seu', 'instagram', 'foto', 'original', 'pepsi', '2018', 'httpstcod2wjmkdndv', 'coca', 'ou', 'pepsi', 'porque', 'frutty', '—', 'pepsi', 'httpstcopv0jezo6p9', 'wirubozugan', 'pepsia', 'pepsi', 'nem', 'deve', 'patrocinar', 'brasileirão', 'só', '2012', 'hlimaac', 'isso', 'q', 'ninguém', 'te', 'beija', 'se', 'fosse', 'pepsi', 'nuu', 'já', 'desisti', 'tentar', 'patrocínio', 'pepsi', 'httpstcof7twaeyinj', 'negomalin', 'caralho', 'mlk', 'derramou', 'pepsi', '8', 'vezes', '😯', '😯', '😯', '😯', 'pepsi', 'eh', 'outro', 'mundo', 'vsf', 'que', 'coisa', 'bem', 'boa', 'annefranknacoca', 'resultado', 'colocadoinstituição', '1108', 'campo', 'concentração', 'auschwitzcurso', '9813', 'engenharia', 'química', 'combu…', 'ahaha', 'agr', 'recebi', 'pro', 'seagull', 'aventurasjs', 'denúncia', 'pepsi', 'agora', 'adoçada', 'com', 'fetos', 'aboados', 'smurfs', 'httpstcoriivdtzog1', 'juliaol', 'c', 'pepsi', 'twist', 'fica', 'maravilhoso', 'é', 'assim', 'q', 'pessoas', 'bebem', 'pepsi', '🤣', 'httpstcofjtbckbnei', 'britneyonlinebr', 'fotógrafa', 'randee', 'st', 'nicholas', 'divulgou', 'foto', 'completa', 'britney', 'para', 'pepsi', '🤤', 'httpstcoi2enloh4jp', 'pepsi', 'muito', 'bom', 'rss', 'goticas', 'praianas', 'httpstcodh8i3lolbn', 'odiodobem2', 'que', 'bom', 'que', 'você', 'se', 'dá', 'esse', 'trabalho', 'obrigado', 'verdade', 'se', 'expor', 'todo', 'esse', 'ódio', 'para', 'expor', 'essa', 'gente', 'paradisewang', '2015', '👶', '2018', '🤵', 'o', 'dream', 'night', 'foi', 'um', 'web', 'drama', 'pra', 'fazer', 'gente', 'rir', 'produção', 'mas', 'essa', 'propaganda', 'pepsi', 'jackson', 'ma…', 'realizações', 'em', '2008', '“pepsi', 'legends', 'of', 'the', 'microphone”', 'primeiro', 'lugar', 'paicipou', 'programa', '“etn', 'cross', 'battle”', 'paicipou', 'programa', '“comedy', 'tv’s', 'ulzzang', 'tv', '“', '“espero', 'que', 'possamos', 'ser', '1', 'ásia', 'espero', 'também', 'que', 'crossgene', 'faça', 'turnê', 'mundial”', '–', 'casper', 'blanc7spax', 'myukishakedojin', 'daqui', 'pouco', 'tá', 'tomando', 'dolly', 'fanta', 'spritepepsi', 'ai', 'vaaai', 'pepsi', 'limão', 'tá', 'com', 'gosto', 'chá', 'gelado', 'pêssego', 'aaybrunomars', '709809', 'denver', 'colorado', '🇺🇸', '24kmagicworldtour', '📍', 'pepsi', 'center', '📍', 'capacidade', '20000', '📍', 'horário', 'previsto', '2115', 'hora…', 'paradisewang', '2015', '👶', '2018', '🤵', 'o', 'dream', 'night', 'foi', 'um', 'web', 'drama', 'pra', 'fazer', 'gente', 'rir', 'produção', 'mas', 'essa', 'propaganda', 'pepsi', 'jackson', 'ma…', 'minha', 'buceta', 'tem', 'gosto', 'pepsi', 'cola', 'dai', 'fui', 'comprar', 'camisa', 'inter', 'hoje', 'nao', 'tinha', 'ai', 'vi', 'um', 'tênis', 'pika', 'fui', 'ver', '550', 'ma', 'senti', 'facada', 'hr', 'resumindo', 'comprei', 'uma', 'latinha', 'pepsi', 'voltei', 'pra', 'baia', 'bbbscomenta', 'pepsi', 'muito', 'ruim', 'misericórdia', 'maisbritney', '🚨', 'notíciasbritneyarmyrandee', 'st', 'nicholas', 'divulgou', 'em', 'seu', 'instagram', 'foto', 'original', 'britneyspears', 'para', 'pepsi…', '😂', '😂', '😂', '😂', '😂', '😂', '😂', '😂', '😂', '😂', '😂', '😂', '😂', '😂', '😂', '😂', '😂', '😂', '😂', '😂', '😂', '😂', '😂', '😂', '😂', '😂', 'daqui', 'pouco', 'vai', 'ter', 'gente', 'botando', 'filha', 'fazer', 'comercial', 'pepsi', 'dnv', 'pra', 'ganhar', 'uma', 'moral', 'ser', 'lembrado', 'assumir', 'uma', 'barquinha', 'ai', 'heimm', '😂', '😂', '😂', '😂', '😂', '😂', '😂', '😂', '😂', 'paradisewang', '2015', '👶', '2018', '🤵', 'o', 'dream', 'night', 'foi', 'um', 'web', 'drama', 'pra', 'fazer', 'gente', 'rir', 'produção', 'mas', 'essa', 'propaganda', 'pepsi', 'jackson', 'ma…', 'dudamatter7', 'lucaxarruda', 'tamint', 'pepsi', 'tem', 'história', 'tô', 'me', 'entupindo', 'cebolitos', 'pepsi', 'tomar', 'pepsi', 'copo', 'ervilha', 'escutando', 'gaita', 'paiu', 'vovô', 'semana', 'que', 'vem', 'bspearsbr', '📢', 'notícia', '📢', 'randee', 'divulga', 'em', 'seu', 'instagram', 'foto', 'original', 'pepsi', '2018', 'httpstcod2wjmkdndv', 'bspearsbr', '📢', 'notícia', '📢', 'randee', 'divulga', 'em', 'seu', 'instagram', 'foto', 'original', 'pepsi', '2018', 'httpstcod2wjmkdndv', 'caralho', 'mlk', 'derramou', 'pepsi', '8', 'vezes', '😯', '😯', '😯', '😯', 'viihsilano', 'jusepdomal', 'pepsi', 'mt', 'ruim', 'vitoria', 'bspearsbr', '📢', 'notícia', '📢', 'randee', 'divulga', 'em', 'seu', 'instagram', 'foto', 'original', 'pepsi', '2018', 'httpstcod2wjmkdndv', 'britneyonlinebr', 'fotógrafa', 'randee', 'st', 'nicholas', 'divulgou', 'foto', 'completa', 'britney', 'para', 'pepsi', '🤤', 'httpstcoi2enloh4jp', 'nao', 'gosta', 'pepsi', 'entao', 'nao', 'toma', 'retardado', 'que', 'comer', 'negocio', 'mas', 'deixa', 'pros', 'outros', 'merda', 'jusepdomal', 'viihsilano', 'pepsi', 'parece', 'coca', 'sem', 'gás', 'uma', 'pizza', 'uma', 'pepsi', 'paradisewang', '2015', '👶', '2018', '🤵', 'o', 'dream', 'night', 'foi', 'um', 'web', 'drama', 'pra', 'fazer', 'gente', 'rir', 'produção', 'mas', 'essa', 'propaganda', 'pepsi', 'jackson', 'ma…', 'tava', 'beber', 'pepsi', 'jantar', 'n', 'conseguia', 'desver', 'isto', 'lmao', 'httpstcobrfeolwvk3', 'impressão', 'minha', 'ou', 'esse', 'nome', 'pepsi', 'causa', 'uma', 'música', 'lana', '—', 'não', 'impressão', 'sua', 'kkkkk', 'httpstco6kln1bjqld', 'muhammadpuncha', 'será', 'que', 'cara', 'que', 'tentou', 'matar', 'bozonaro', 'não', 'um', 'desses', 'fetos', 'aboados', 'pepsi', 'que', 'cresceu', 'foi', 'nutrido', 'peito…', 'aaybrunomars', '709809', 'denver', 'colorado', '🇺🇸', '24kmagicworldtour', '📍', 'pepsi', 'center', '📍', 'capacidade', '20000', '📍', 'horário', 'previsto', '2115', 'hora…', 'caroulesribeiro', 'eu', 'cui', 'pepsi', 'com', 'gengibre', 'essa', 'eu', 'ainda', 'não', 'tomei', 'shout', 'out', 'pra', 'milena', 'q', 'foaleceu', 'hj', 'comida', 'bebidaa', 'gente', 'foi', 'p', 'conveniencia', 'comer', 'ruffles', 'tomar', 'pepsi', 'paradisewang', '2015', '👶', '2018', '🤵', 'o', 'dream', 'night', 'foi', 'um', 'web', 'drama', 'pra', 'fazer', 'gente', 'rir', 'produção', 'mas', 'essa', 'propaganda', 'pepsi', 'jackson', 'ma…', 'paradisewang', '2015', '👶', '2018', '🤵', 'o', 'dream', 'night', 'foi', 'um', 'web', 'drama', 'pra', 'fazer', 'gente', 'rir', 'produção', 'mas', 'essa', 'propaganda', 'pepsi', 'jackson', 'ma…', 'paradisewang', '2015', '👶', '2018', '🤵', 'o', 'dream', 'night', 'foi', 'um', 'web', 'drama', 'pra', 'fazer', 'gente', 'rir', 'produção', 'mas', 'essa', 'propaganda', 'pepsi', 'jackson', 'ma…', 'só', 'uma', 'pepsi', 'pode', 'me', 'salvar', 'viihsilano', 'babissena', 'pepsi', 'twist', 'boa', 'mesmo', '24khot', 'segunda', 'noite', 'pepsi', 'center', '08092018hotcarrotgroup🇧🇷24kmagicworldtourfinale24magicworldtourbrunomarsuser', 'insta', 'tb…', 'oiluiz', 'também', 'acho', 'que', 'não', 'crime', 'mas', 'se', 'vejo', 'um', 'conhecido', 'fazendo', 'me', 'desassocio', 'cansei', 'tolerar', 'vermes', 'pepsi', 'melhor', 'que', 'coca', '😘', 'my', 'pussy', 'taste', 'like', 'pepsi', 'cola', '😏', 'não', 'olhem', 'tradução', 'essa', 'apresentação', 'beyoncé', 'evento', 'pepsi', 'me', 'licença', 'ne', 'marcelotas', 'você', 'um', 'verme', 'imundo', 'sabe', 'que', 'está', 'errado', 'mas', 'continua', 'posando', 'politicamente', 'correto', 'em', 'detrimento', 'uma', 'solução', 'para', 'dezenas', 'milhares', 'vítimas', 'violência', 'que', 'morrem', 'cada', 'ano', 'brasil', 'se', 'fosse', 'seu', 'cu', 'sem', 'muro', 'alto', 'reta', 'aí', 'seria', 'bem', 'diferente', 'paradisewang', '2015', '👶', '2018', '🤵', 'o', 'dream', 'night', 'foi', 'um', 'web', 'drama', 'pra', 'fazer', 'gente', 'rir', 'produção', 'mas', 'essa', 'propaganda', 'pepsi', 'jackson', 'ma…', 'eu', 'minha', 'pepsi', 'cinema', '❣', '️', 'pepsi', 'café', 'manhã', 'que', 'erro', 'paradisewang', '2015', '👶', '2018', '🤵', 'o', 'dream', 'night', 'foi', 'um', 'web', 'drama', 'pra', 'fazer', 'gente', 'rir', 'produção', 'mas', 'essa', 'propaganda', 'pepsi', 'jackson', 'ma…', 'imjulianar', 'batata', 'cheddar', 'bacon', 'aneis', 'cebola', 'mt', 'pepsi', 'dannyamendola', 'pepsi', 'dolphins', 'vou', 'chorar', 'ingriddsantoss', 'ano', '2012show', 'forfun', 'pepsi', 'gurizada', 'metendo', 'aquece', 'rua', 'aguardando', 'ansiosamente', 'começa', 'showhidrop…', 'melhor', 'refrigerante', 'sem', 'dúvidas', 'pepsi', 'twist', '💁', '🏻\\u200d', '♀', '️', '💖', 'se', 'você', 'não', 'jogou', 'pepsi', 'man', 'ps1', 'sua', 'infância', 'foi', 'uma', 'merda', 'e', 'minha', 'hailey', 'alguma', 'pepsi', 'para', 'ser', '2ª', 'opção', 'httpstcouy8vd4yivp', 'belaaraujo', 'eu', 'sou', 'em', 'refrigerante', 'menos', 'pepsi', 'bspearsbr', '📢', 'notícia', '📢', 'randee', 'divulga', 'em', 'seu', 'instagram', 'foto', 'original', 'pepsi', '2018', 'httpstcod2wjmkdndv', 'paradisewang', '2015', '👶', '2018', '🤵', 'o', 'dream', 'night', 'foi', 'um', 'web', 'drama', 'pra', 'fazer', 'gente', 'rir', 'produção', 'mas', 'essa', 'propaganda', 'pepsi', 'jackson', 'ma…', 'kkkkkkkkkkk', 'eh', 'pepsi', 'mesmo', 'socorrooo', '—', 'ahhhh', 'eh', 'aquele', 'comercial', 'que', 'ela', 'fez', 'pra', 'pepsi', 'que', 'tá', 'tendo', 'uma', 'manifestação', 'aí', 'ela', 'entrega', 'u', 'httpstco0996lyuicz', 'boladão', 'tomando', 'pepsi', 'bspearsbr', '📢', 'notícia', '📢', 'randee', 'divulga', 'em', 'seu', 'instagram', 'foto', 'original', 'pepsi', '2018', 'httpstcod2wjmkdndv', 'saahazvd', 'anavrocha', 'jub1997', 'doidona', 'pepsi', 'vcs', 'ficaram', 'hein', 'btsare7', 'como', 'esquecer', 'dia', 'que', 'jimin', 'mesmo', 'com', 'dificuldade', 'falar', 'em', 'inglês', 'pergunta', 'qual', 'bebida', 'mais', 'famosa', 'doninha', 'diz…', 'caralho', '3', 'matina', 'eu', 'bebendo', 'pepsi', 'com', 'sake', 'oq', 'eu', 'to', 'fazendo', 'com', 'minha', 'vida', 'hj', 'vamos', 'jogar', 'tarot', 'praia', 'to', 'nervoser', 'depressao', 'um', 'bagulho', 'mt', 'foda', 'minha', 'amiga', 'ta', 'em', 'crise', 'eu', 'nao', 'sei', 'que', 'fazer', 'eu', 'sei', 'muito', 'bem', 'como', 'mas', 'cada', 'um', 'lida', 'cm', 'sua', 'dor', 'um', 'jeito', 'nada', 'que', 'eu', 'fale', 'agora', 'vai', 'adiantar', 'desperdicei', 'uma', 'pepsi', 'listinha', 'coisas', 'que', 'comi', 'hojebolohamburguer', 'bkbatatapepsi', 'twist', 'kit', 'katbubble', 'killhamburguer', 'mccasquinha', 'engordei', '50', 'kg', 'pepsi', 'me', 'deixou', 'mal', 'como', 'kkkkkkkkllll', 'paradisewang', '2015', '👶', '2018', '🤵', 'o', 'dream', 'night', 'foi', 'um', 'web', 'drama', 'pra', 'fazer', 'gente', 'rir', 'produção', 'mas', 'essa', 'propaganda', 'pepsi', 'jackson', 'ma…', 'hegashe', 'eu', 'pedi', 'uma', 'coca', 'dei', '10', 'voltei', 'com', '4', 'ainda', 'recebi', 'uma', 'pepsi', 'paradisewang', '2015', '👶', '2018', '🤵', 'o', 'dream', 'night', 'foi', 'um', 'web', 'drama', 'pra', 'fazer', 'gente', 'rir', 'produção', 'mas', 'essa', 'propaganda', 'pepsi', 'jackson', 'ma…', 'paradisewang', '2015', '👶', '2018', '🤵', 'o', 'dream', 'night', 'foi', 'um', 'web', 'drama', 'pra', 'fazer', 'gente', 'rir', 'produção', 'mas', 'essa', 'propaganda', 'pepsi', 'jackson', 'ma…', 'alisonescob4r', 'quem', 'ela', 'pensa', 'q', 'esfregando', 'essa', 'porra', 'em', 'mim', 'noite', 'inteiraaaaaaaaa', 'pepsi', 'que', 'aguarde', 'porque', 'zona', 'sul', 'já', 'foi…', 'rafazimbra', 'minha', 'opiniãoindispensáveiscoca', 'colaguaraná', 'antáicafanta', 'guaraná', 'tomo', 'quando', 'tempepsidollyguaraná', 'kuati…', 'aaybrunomars', '709809', 'denver', 'colorado', '🇺🇸', '24kmagicworldtour', '📍', 'pepsi', 'center', '📍', 'capacidade', '20000', '📍', 'horário', 'previsto', '2115', 'hora…', 'pode', 'ser', 'pepsipode', 'sim', 'bom', 'que', 'não', 'mistura', 'rachadell', 'tmarcondess', 'teve', 'uma', 'hora', 'que', 'eu', 'dei', 'uma', 'latinha', 'pepsi', 'para', 'ti', 'falei', 'que', 'era', 'lolo', 'tu', 'ficou', 'igual', 'um', 'idiota', 'baforando', 'aquilo', 'kkkkk', 'derramei', 'minha', 'pepsi', '350', 'minha', 'cama', 'eu', 'tô', 'muito', 'triste', 'queria', 'mesmo', 'era', 'uma', 'pepsi', 'bem', 'gelada', 'blackorjackson', 'pepsi', 'lança', 'latinhas', 'com', 'foto', 'mike', 'não', 'tem', 'brasil', 'países', 'fazem', 'tributo', 'em', 'comemoração', '60', 'anos', 'michael…', 'asaelmgarcia', 'brunomars', 'pepsi', 'center', 'httpstco9rvbiebi0c', 'paradisewang', '2015', '👶', '2018', '🤵', 'o', 'dream', 'night', 'foi', 'um', 'web', 'drama', 'pra', 'fazer', 'gente', 'rir', 'produção', 'mas', 'essa', 'propaganda', 'pepsi', 'jackson', 'ma…', 'bspearsbr', '📢', 'notícia', '📢', 'randee', 'divulga', 'em', 'seu', 'instagram', 'foto', 'original', 'pepsi', '2018', 'httpstcod2wjmkdndv', 'pizza', 'pepsi', 'melhor', 'combinação', 'aventurasjs', 'denúncia', 'pepsi', 'agora', 'adoçada', 'com', 'fetos', 'aboados', 'smurfs', 'httpstcoriivdtzog1', 'uberprintss', 'to', 'tomando', 'uma', 'pepsi', 'posto', '™', 'httpstco2ipu9saqnc', 'britneyonlinebr', 'fotógrafa', 'randee', 'st', 'nicholas', 'divulgou', 'foto', 'completa', 'britney', 'para', 'pepsi', '🤤', 'httpstcoi2enloh4jp', 'imagens', 'que', 'me', 'deixam', 'emocionada', 'httpstco4ymiyz91hr', 'nutellaruiva', 'to', 'há', 'tempos', 'sem', 'tomar', 'refri', 'mas', 'me', 'bateu', 'uma', 'sede', 'pepsi', 'twist', 'agora', 'como', 'esquecer', 'dia', 'que', 'jimin', 'mesmo', 'com', 'dificuldade', 'falar', 'em', 'inglês', 'pergunta', 'qual', 'bebida', 'mais', 'famosa', 'doninha', 'diz', 'pepsi', 'ele', 'ri', 'com', 'aquela', 'carinha', 'mais', 'fofa', 'pede', 'uma', 'cocapark', 'jimin', 'só', 'queria', 'gastar', 'que', 'tinha', 'decorado', 'mesmo', 'kkkkkkkkkkkkk', 'btstwt', 'httpstconvj5nawck5', 'paradisewang', '2015', '👶', '2018', '🤵', 'o', 'dream', 'night', 'foi', 'um', 'web', 'drama', 'pra', 'fazer', 'gente', 'rir', 'produção', 'mas', 'essa', 'propaganda', 'pepsi', 'jackson', 'ma…', 'maisbritney', '🚨', 'notíciasbritneyarmyrandee', 'st', 'nicholas', 'divulgou', 'em', 'seu', 'instagram', 'foto', 'original', 'britneyspears', 'para', 'pepsi…', 'anareisll', 'jimin', 'qual', 'bebida', 'mais', 'famosamoça', 'pepsijimin', 'pepsi', 'hahahahahahahah', 'ok', 'me', 'vê', 'uma', 'coca', 'favorna', 'vida', 'eu', 'so…', 'biagomes0', 'você', 'prefere', 'catu', 'com', 'pepsi', 'que', 'eu', 'to', 'ligado', 'paradisewang', '2015', '👶', '2018', '🤵', 'o', 'dream', 'night', 'foi', 'um', 'web', 'drama', 'pra', 'fazer', 'gente', 'rir', 'produção', 'mas', 'essa', 'propaganda', 'pepsi', 'jackson', 'ma…', 'heloboeiraa', 'fora', 'pepsi', 'bolacha', 'mousse', 'todo', 'dia', 'lkkkkk', 'maisbritney', '🚨', 'notíciasbritneyarmyrandee', 'st', 'nicholas', 'divulgou', 'em', 'seu', 'instagram', 'foto', 'original', 'britneyspears', 'para', 'pepsi…', 'kr00ni', 'bloco', 'minha', 'bag', 'bloco', 'minha', 'bagsempre', 'falo', 'xé', 'codein', 'minha', 'pepsisabe', 'como', 'fama', 'tipo', 'gretchenninja', 'tenho', 'fé', 'iss…', 'nao', 'tirei', 'nenhuma', 'foto', 'close', 'praia', 'eh', 'um', 'milagre', 'desço', 'pra', 'pegar', 'vodka', 'com', 'pepsi', 'ou', 'nao', 'vou', 'encher', 'cu', 'pepsi', 'btsare7', 'como', 'esquecer', 'dia', 'que', 'jimin', 'mesmo', 'com', 'dificuldade', 'falar', 'em', 'inglês', 'pergunta', 'qual', 'bebida', 'mais', 'famosa', 'doninha', 'diz…', 'derramei', 'pepsi', 'cama', 'meu', 'único', 'alimento', 'dia', 'bspearsbr', '📢', 'notícia', '📢', 'randee', 'divulga', 'em', 'seu', 'instagram', 'foto', 'original', 'pepsi', '2018', 'httpstcod2wjmkdndv', 'rafazimbra', 'minha', 'opiniãoindispensáveiscoca', 'colaguaraná', 'antáicafanta', 'guaraná', 'tomo', 'quando', 'tempepsidollyguaraná', 'kuati…', 'lembrei', 'agora', 'que', 'ia', 'largar', 'show', 'mac', 'miller', 'wiz', 'pepsi', 'mas', 'tinha', 'sido', 'cancelado', 'ingriddsantoss', 'ano', '2012show', 'forfun', 'pepsi', 'gurizada', 'metendo', 'aquece', 'rua', 'aguardando', 'ansiosamente', 'começa', 'showhidrop…', 'será', 'que', 'cara', 'que', 'tentou', 'matar', 'bozonaro', 'não', 'um', 'desses', 'fetos', 'aboados', 'pepsi', 'que', 'cresceu', 'foi', 'nutrido', 'peito', 'george', 'soros', 'subwaybrasil', 'me', 'mande', '12', 'sanduiche', '30', 'com', 'frango', 'maionese', 'alface', 'pepino', 'pão', 'italiano', 'sem', 'queijo', 'duas', 'pepsi', '1', 'um', 'cookie', 'porfavor', '😭', '😭', 'bruzzcutseason', 'sobe', 'aqui', 'só', 'quem', 'tem', 'órgão', 'genital', 'com', 'gosto', 'pepsi', 'cola', 'httpstcoyje6jlkqfv', '7bmwsa', 'mazdasa', 'toyotasa', 'hyundaisa', 'volkswagensa', 'dischem', 'mrpfashion', 'imperiallogist', 'imperialchp', 'brownestate', 'nestlesa', 'loreal', 'pepsisa', 'makrosa', 'clickssa', 'picknpay', 'shopritesa', 'knlclcontact', '27', '84', '229', '5752', 'email', 'charlieraebemyaliasgmailcom', 'que', 'belo', 'dia', 'para', 'ver', 'meu', 'time', 'ser', 'impiedosamente', 'massacrado', 'clássico', 'citadino', 'pena', 'que', 'eu', 'não', 'comprei', 'uma', 'pepsi', 'cola', 'para', 'acompanhar', 'meu', 'láudano', 'infelizmente', 'câncer', 'venceu', 'mais', 'uma', 'vez', 'fui', 'num', 'show', 'dele', 'pepsi', 'era', 'funk', 'momento', 'foda', 'demais', 'descanseempaz', '👼', '🏿', '😕', 'httpstcowcj9vzya4u', 'paradisewang', '2015', '👶', '2018', '🤵', 'o', 'dream', 'night', 'foi', 'um', 'web', 'drama', 'pra', 'fazer', 'gente', 'rir', 'produção', 'mas', 'essa', 'propaganda', 'pepsi', 'jackson', 'ma…', 'ontem', 'eu', 'estava', 'metendo', 'louco', 'com', 'uma', 'pepsi', 'mão', 'cantando', 'adultério', 'hoje', 'eu', 'descubro', 'que', 'catra', 'morreu', 'gente', 'segunda', 'noite', 'pepsi', 'center', '08092018hotcarrotgroup🇧🇷24kmagicworldtourfinale24magicworldtourbrunomarsuser', 'insta', 'tbdees', 'brunocarrot24k', '🎶', 'uptown', 'funk~p', 'httpstcoiuu6cn0z2g', 'sobe', 'aqui', 'só', 'quem', 'tem', 'órgão', 'genital', 'com', 'gosto', 'pepsi', 'cola', 'httpstcoyje6jlkqfv', 'pepsi', 'qnd', 'ta', 'congelada', 'mas', 'nem', 'tanto', 'nao', 'tem', 'preco', 'paradisewang', '2015', '👶', '2018', '🤵', 'o', 'dream', 'night', 'foi', 'um', 'web', 'drama', 'pra', 'fazer', 'gente', 'rir', 'produção', 'mas', 'essa', 'propaganda', 'pepsi', 'jackson', 'ma…', 'britneyonlinebr', 'fotógrafa', 'randee', 'st', 'nicholas', 'divulgou', 'foto', 'completa', 'britney', 'para', 'pepsi', '🤤', 'httpstcoi2enloh4jp', 'acordei', 'tomei', 'um', 'litro', 'água', 'uma', 'térmica', 'chimarrão', 'uma', 'garrafa', 'pepsi', 'vidro', 'agora', 'meu', 'vô', 'abriu', 'um', 'latão', 'desisti', 'ressaca', 'tô', 'tomando', 'com', 'ele', 'paulino', 'inter', 'percebi', 'quanto', 'odeio', 'rotina', 'quando', 'sexta', 'feira', 'eu', 'peguei', 'uma', 'budweiss', 'mudei', 'para', 'uma', 'stella', 'então', 'ontem', 'peguei', 'uma', 'pepsi', 'invés', 'coca', 'geladinhajá', 'hje', 'fui', 'fanta', 'uva', 'que', 'odeio', 'invés', 'meu', 'guaranáfavorito', 'tô', 'nem', 'entendendo', 'coca', 'cola', 'com', 'gosto', 'pepsi', 'trocaram', 'rótulos', '👎', 'codein', 'minha', 'pepsi', 'paradisewang', '2015', '👶', '2018', '🤵', 'o', 'dream', 'night', 'foi', 'um', 'web', 'drama', 'pra', 'fazer', 'gente', 'rir', 'produção', 'mas', 'essa', 'propaganda', 'pepsi', 'jackson', 'ma…', 'isapeitos', 'amiga', 'conta', 'historia', 'superação', 'pra', 'ela', 'eu', 'terminei', 'um', 'relacionamento', 'não', 'superei', 'nao', 'amiga', 'historia', 'super…', 'no', 'momento', 'tomando', 'uma', 'pepsi', 'geladinha', '🤤', 'btsare7', 'como', 'esquecer', 'dia', 'que', 'jimin', 'mesmo', 'com', 'dificuldade', 'falar', 'em', 'inglês', 'pergunta', 'qual', 'bebida', 'mais', 'famosa', 'doninha', 'diz…', 'mebeijavcs', 'alyciaprovost', 'meu', 'deus', 'que', 'post', 'mais', 'lindo', 'eu', 'chorei', 'socorro', 'eusourafao', 'garrafa', 'pet', 'pepsi', '1l', 'tem', 'um', 'informe', 'bem', 'assim', 'tampa', '“valor', 'máximo', 'sugerido', 'mercado', '350”', 'desgraças', 'ven…', 'amassei', 'pastel', 'com', 'pepsi', 'com', 'direito', 'pepsi', '600', 'p', 'ela', 'httpstcoszdprdqvin', '666uni', 'fo', 'se', 'decider', 'coca', 'ou', 'pepsi', 'paradisewang', '2015', '👶', '2018', '🤵', 'o', 'dream', 'night', 'foi', 'um', 'web', 'drama', 'pra', 'fazer', 'gente', 'rir', 'produção', 'mas', 'essa', 'propaganda', 'pepsi', 'jackson', 'ma…', 'atualmente', 'nenhum', 'mas', 'pepsi', 'httpstcoftdremb0c6', 'paradisewang', '2015', '👶', '2018', '🤵', 'o', 'dream', 'night', 'foi', 'um', 'web', 'drama', 'pra', 'fazer', 'gente', 'rir', 'produção', 'mas', 'essa', 'propaganda', 'pepsi', 'jackson', 'ma…', 'uberprintss', 'to', 'tomando', 'uma', 'pepsi', 'posto', '™', 'httpstco2ipu9saqnc', 'vc', 'fofa', 'mas', 'ja', 'viu', 'garrafa', 'pepsi', '1', 'litro', 'só', 'quero', 'se', 'for', 'assim', 'agora', 'httpstcodpzt04lmno', 'paradisewang', '2015', '👶', '2018', '🤵', 'o', 'dream', 'night', 'foi', 'um', 'web', 'drama', 'pra', 'fazer', 'gente', 'rir', 'produção', 'mas', 'essa', 'propaganda', 'pepsi', 'jackson', 'ma…', 'corote', 'limão', 'com', 'coca', 'cola', 'tem', 'gosto', 'pepsi', 'twist', 'pode', 'ser', 'perigoso', 'pepsi', 'twist', 'melhor', 'refrigerante', 'nada', 'mais', 'impoa', 'que', 'minha', 'opinião', 'isapeitos', 'mano', 'uma', 'pepsi', 'que', 'sobreviveu', 'um', 'acidente', 'carro', 'pra', 'poucoss', 'sonha', 'que', 'pepsi', 'paga', 'pepsi', 'com', 'ruffles', 'mt', 'bommm', '24khot', 'segunda', 'noite', 'pepsi', 'center', '08092018hotcarrotgroup🇧🇷24kmagicworldtourfinale', '24magicworldtour', 'brunomars', '~p', 'https…', 'paradisewang', '2015', '👶', '2018', '🤵', 'o', 'dream', 'night', 'foi', 'um', 'web', 'drama', 'pra', 'fazer', 'gente', 'rir', 'produção', 'mas', 'essa', 'propaganda', 'pepsi', 'jackson', 'ma…', 'há', '0001%', 'álcool', 'em', 'cada', 'litro', 'coca', 'cola', 'pepsi', 'paradisewang', '2015', '👶', '2018', '🤵', 'o', 'dream', 'night', 'foi', 'um', 'web', 'drama', 'pra', 'fazer', 'gente', 'rir', 'produção', 'mas', 'essa', 'propaganda', 'pepsi', 'jackson', 'ma…', 'paradisewang', '2015', '👶', '2018', '🤵', 'o', 'dream', 'night', 'foi', 'um', 'web', 'drama', 'pra', 'fazer', 'gente', 'rir', 'produção', 'mas', 'essa', 'propaganda', 'pepsi', 'jackson', 'ma…', 'btsare7', 'como', 'esquecer', 'dia', 'que', 'jimin', 'mesmo', 'com', 'dificuldade', 'falar', 'em', 'inglês', 'pergunta', 'qual', 'bebida', 'mais', 'famosa', 'doninha', 'diz…', 'observaldo', 'mais', 'um', 'httpstco0z5spudike', 'alexbaalo', 'não', 'preciso', 'falar', 'nd', 'httpstcor6wderrmzu', 'paradisewang', '2015', '👶', '2018', '🤵', 'o', 'dream', 'night', 'foi', 'um', 'web', 'drama', 'pra', 'fazer', 'gente', 'rir', 'produção', 'mas', 'essa', 'propaganda', 'pepsi', 'jackson', 'ma…', 'pra', 'mimindispensável', 'suco', 'pepsi', 'twist', 'sodasprite', 'fanta', 'uva', 'nessa', 'ordem', 'resto', 'pode', 'morre', 'httpstcoofdjfylns7', 'aaybrunomars', '809', '2°', 'show', 'bruno', 'mars', 'pepsi', 'center', 'em', 'denver', '🇺🇸', '📷', 'ig', 'shawnhansson', '24kmagicworldtour', '3', 'httpstcokbcadh…', 'paradisewang', '2015', '👶', '2018', '🤵', 'o', 'dream', 'night', 'foi', 'um', 'web', 'drama', 'pra', 'fazer', 'gente', 'rir', 'produção', 'mas', 'essa', 'propaganda', 'pepsi', 'jackson', 'ma…', 'única', 'pae', 'boa', 'meu', 'dia', 'hj', 'foi', 'coisas', 'q', 'comi', 'sundae', 'doce', 'leite', 'doritos', 'pimenta', 'pepsi', '809', '2°', 'show', 'bruno', 'mars', 'pepsi', 'center', 'em', 'denver', '🇺🇸', '📷', 'ig', 'shawnhansson', '24kmagicworldtour', '3', 'httpstcokbcadht6v1', 'pepsi', 'sem', 'gás', 'tudo', 'paradisewang', '2015', '👶', '2018', '🤵', 'o', 'dream', 'night', 'foi', 'um', 'web', 'drama', 'pra', 'fazer', 'gente', 'rir', 'produção', 'mas', 'essa', 'propaganda', 'pepsi', 'jackson', 'ma…', 'a', 'esquerda', 'tudo', 'burra', 'inteligente', 'olavo', 'carvalho', 'que', 'diz', 'que', 'pepsi', 'coloca', 'feto', 'refri', 'kkkkkkk', 'bspearsbr', '📢', 'notícia', '📢', 'randee', 'divulga', 'em', 'seu', 'instagram', 'foto', 'original', 'pepsi', '2018', 'httpstcod2wjmkdndv', 'paradisewang', '2015', '👶', '2018', '🤵', 'o', 'dream', 'night', 'foi', 'um', 'web', 'drama', 'pra', 'fazer', 'gente', 'rir', 'produção', 'mas', 'essa', 'propaganda', 'pepsi', 'jackson', 'ma…', 'paradisewang', '2015', '👶', '2018', '🤵', 'o', 'dream', 'night', 'foi', 'um', 'web', 'drama', 'pra', 'fazer', 'gente', 'rir', 'produção', 'mas', 'essa', 'propaganda', 'pepsi', 'jackson', 'ma…', '♪♫', 'minha', 'bunda', 'tem', 'gosto', 'pepsi', 'colaeu', 'tenho', 'preferência', 'homens', 'mais', 'velhossempre', 'foi', 'assim', 'então', 'não', 'nenhuma', 'surpresa', '♪♫', '—', 'ouvindo', 'lana', 'del', 'rey', 'cola', 'bbbscomenta', 'pepsi', 'maior', 'melhor', 'btsare7', 'como', 'esquecer', 'dia', 'que', 'jimin', 'mesmo', 'com', 'dificuldade', 'falar', 'em', 'inglês', 'pergunta', 'qual', 'bebida', 'mais', 'famosa', 'doninha', 'diz…', 'brunomarskatz', 'td', '182', '~', 'pepsicenterdenver', 'co', '9718', 'pepsicenter', 'pepsicenterbrunomars', 'ブルーノマーズ', 'brunomarsfans', 'hooligans', '24k…', 'na', 'garrafa', 'pet', 'pepsi', '1l', 'tem', 'um', 'informe', 'bem', 'assim', 'tampa', '“valor', 'máximo', 'sugerido', 'mercado', '350”', 'desgraças', 'vendem', 'tudo', '5', 'reais', 'so', 'queria', 'uma', 'pepsi', 'gelada', 'afim', 'tomar', 'uma', 'pepsi', 'twist', 'bem', 'geladinha', 'porém', 'não', 'posso', 'doente', 'uma', 'miséria', 'aaybrunomars', '809', '2°', 'show', 'bruno', 'mars', 'pepsi', 'center', 'em', 'denver', '🇺🇸', '📷', 'ig', 'shawnhansson', '24kmagicworldtour', '3', 'httpstcokbcadh…', 'e', 'eles', 'ainda', 'bugaram', 'mulher', 'ela', 'oferecia', 'pespi', 'ai', 'respondiam', 'twist', 'ai', 'ela', 'perguntava', 'pepsi', 'twist', 'eles', 'isso', 'sprite', 'não', 'pepsi', 'twist', 'não', 'moça', 'duas', 'twist', 'um', 'sprit', 'kkkkkkkkkkkkk', '2', 'estão', 'fleando', 'comigo', 'eu', 'tomando', 'pepsi', 'vendo', 'uma', 'professora', 'sem', 'classe', 'pedrorcelino', 'tu', 'deve', 'ser', 'daqueles', 'q', 'fica', 'uiui', 'pepsi', 'melhor', 'q', 'coca', 'cola', 'vai', 'teu', 'butico', 'vai', 'carioquinha', 'merda', 'caiocgomes', 'se', 'eu', 'gosto', 'pepsi', 'mas', 'você', 'não', 'me', 'conhece', 'ainda', 'há', 'chance', 'eu', 'ser', 'genial', 'beardednerd', 'eu', 'to', 'focando', 'beber', 'coca', 'cola', 'caso', 'comer', 'pepsimas', 'tô', 'com', 'medo', 'deus', 'promessas', 'não', 'ser', 'tão', 'flexível', 'quanto', 'eu', 'entendimento', 'vai', 'ter', 'masterclass', 'érico', 'rocha', 'pepsi', 'on', 'stage', 'queria', 'manucbss', 'pelo', 'visto', 'só', 'pepsi', 'hjshhshshs', 'só', 'faltava', 'uma', 'coquinha', 'ou', 'pepsi', 'paradisewang', '2015', '👶', '2018', '🤵', 'o', 'dream', 'night', 'foi', 'um', 'web', 'drama', 'pra', 'fazer', 'gente', 'rir', 'produção', 'mas', 'essa', 'propaganda', 'pepsi', 'jackson', 'ma…', 'demistyiish', 'britney', 'ctz', 'tem', 'campanha', 'com', 'foto', 'dela', 'latinhas', 'pepsi', '4', 'cantos', 'us', 'kkkk', 'se', 'nao', 'for', 'ela', 'vai', 'ser', 'um', 'tombo', 'enorme', 'mas', 'se', 'for', 'rihanna', 'fico', 'feliz', 'tbm', 'britneyonlinebr', 'fotógrafa', 'randee', 'st', 'nicholas', 'divulgou', 'foto', 'completa', 'britney', 'para', 'pepsi', '🤤', 'httpstcoi2enloh4jp', 'água', 'cocapepsibrahmaantáica', 'geladinha', 'aaybrunomars', '709809', 'denver', 'colorado', '🇺🇸', '24kmagicworldtour', '📍', 'pepsi', 'center', '📍', 'capacidade', '20000', '📍', 'horário', 'previsto', '2115', 'hora…', 'eu', 'agora', 'comeria', 'muito', 'facilmente', 'um', 'pratão', 'arroz', 'feijão', 'tropeiro', 'medalhão', 'frango', 'com', 'bacon', 'vinagrete', 'um', 'copão', 'cheio', 'pepsi', 'pra', 'acompanhar', 'e', 'eu', 'q', 'bati', 'olho', 'achei', 'q', 'fosse', 'propaganda', 'pepsi', 'kkkkkkkkk', 'httpstconk3vam4qd8', 'bspearsbr', '📢', 'notícia', '📢', 'randee', 'divulga', 'em', 'seu', 'instagram', 'foto', 'original', 'pepsi', '2018', 'httpstcod2wjmkdndv', 'maisbritney', '🚨', 'notíciasbritneyarmyrandee', 'st', 'nicholas', 'divulgou', 'em', 'seu', 'instagram', 'foto', 'original', 'britneyspears', 'para', 'pepsi…', 'thtxr', 'zé', 'tá', 'com', 'uma', 'ressaca', 'crl', 'já', 'bebeu', '2litros', 'pepsi', 'kkkkkk', 'pepsi', 'twist', 'muito', 'bom', 'pqp', 'paradisewang', '2015', '👶', '2018', '🤵', 'o', 'dream', 'night', 'foi', 'um', 'web', 'drama', 'pra', 'fazer', 'gente', 'rir', 'produção', 'mas', 'essa', 'propaganda', 'pepsi', 'jackson', 'ma…', 'bspearsbr', '📢', 'notícia', '📢', 'randee', 'divulga', 'em', 'seu', 'instagram', 'foto', 'original', 'pepsi', '2018', 'httpstcod2wjmkdndv', 'o', 'pepsi', 'ser', 'cona', 'não', 'saber', 'quem', 'gostar', 'pk', 'ele', 'ser', 'cona', '😇', '—', 'httpstcotthquds10u', 'giaretf', 'tem', 'umas', 'pessoas', 'que', 'entram', 'vida', 'gente', 'que', 'gente', 'só', 'ficaaonde', 'você', 'tava', 'esse', 'tempo', 'todo', 'meu', 'anjo', 'joyfoluc', 'passaroserosas', 'maufalavigna', 'pombococo', 'craudin', 'olavinha88', 'ladycrow', 'absinto', 'virou', 'bebida', 'oficial', 'esquerdistas', 'poxa', 'eu', 'pensei', 'que', 'fosse', 'pepsi', 'kkkkk', 'e', 'minha', 'mãe', 'que', 'tá', 'fazendo', 'um', 'bolo', 'chocolate', 'nada', 'ela', 'coloca', 'pepsi', 'massa', 'pepsi', 'twist', 'será', 'minha', 'moe', 'n', 'existe', 'nada', 'mais', 'gostoso', 'vai', 'se', 'fude', 'bspearsbr', '📢', 'notícia', '📢', 'randee', 'divulga', 'em', 'seu', 'instagram', 'foto', 'original', 'pepsi', '2018', 'httpstcod2wjmkdndv', 'emilyjbieber63', 'kk', 'ai', 'men', 've', 'uma', 'pepsi', 'aídei', '20o', 'mano', 'me', 'volta', '14', 'fiquei', 'httpstco0omi5ez0jr', 'paradisewang', '2015', '👶', '2018', '🤵', 'o', 'dream', 'night', 'foi', 'um', 'web', 'drama', 'pra', 'fazer', 'gente', 'rir', 'produção', 'mas', 'essa', 'propaganda', 'pepsi', 'jackson', 'ma…', 'joga', 'pepsi', 'que', 'eu', 'to', 'chato2', 'pacotes', 'biscoito', 'meu', 'prato', 'preciso', 'uma', 'pepsi', 'bem', 'gelada', 'real', 'se', 'bem', 'que', 'td', 'bebendo', 'uma', 'pepsi', 'enchendo', 'cu', 'bestera', 'fica', 'legalabre', 'uma', 'bem', 'gelada', 'pra', 'ae', 'nome', 'radialista', 'que', 'eu', 'esqueci', '~~tsc~~aaaaaaaaaaah', 'paradisewang', '2015', '👶', '2018', '🤵', 'o', 'dream', 'night', 'foi', 'um', 'web', 'drama', 'pra', 'fazer', 'gente', 'rir', 'produção', 'mas', 'essa', 'propaganda', 'pepsi', 'jackson', 'ma…', 'hojeontem', 'bebi', 'pepsi', 'agua', 'suco', 'noite', 'to', 'caminho', 'ceo', 'httpstcormcycczdjs', 'bebendo', 'pepsi', 'eu', 'tô', 'ápice', 'tô', 'morrendo', 'tanto', 'tossir', 'mas', 'se', 'alguém', 'me', 'oferecer', 'uma', 'pepsi', 'bem', 'gelada', 'eu', 'aceito', '😋', 'gente', 'impressão', 'minha', 'ou', 'não', 'tem', 'mais', 'propaganda', 'pepsi', 'ingriddsantoss', 'ano', '2012show', 'forfun', 'pepsi', 'gurizada', 'metendo', 'aquece', 'rua', 'aguardando', 'ansiosamente', 'começa', 'showhidrop…', 'negomalin', 'caralho', 'mlk', 'derramou', 'pepsi', '8', 'vezes', '😯', '😯', '😯', '😯', 'agroanjo', 'hahahahaha', 'pior', 'que', 'não', 'mas', 'bebi', 'conhaque', 'com', 'pepsi', 'não', 'tomo', 'mais', 'refri', 'fazia', 'tempo', 'que', 'não', 'bebia', 'pepsi', 'melhor', 'refrigerante', 'mundo', 'paradisewang', '2015', '👶', '2018', '🤵', 'o', 'dream', 'night', 'foi', 'um', 'web', 'drama', 'pra', 'fazer', 'gente', 'rir', 'produção', 'mas', 'essa', 'propaganda', 'pepsi', 'jackson', 'ma…', 'amiga', 'conta', 'historia', 'superação', 'pra', 'ela', 'eu', 'terminei', 'um', 'relacionamento', 'não', 'superei', 'nao', 'amiga', 'historia', 'superação', 'pepsi', 'bolsonaro', '2018', 'que', 'tite', 'tome', 'muita', 'pepsi', 'cola', 'esse', 'sujeito', 'não', 'merece', 'experimentar', 'sabor', 'uma', 'dolly', 'citrus', 'imaginem', 'cocacola', 'acuada', 'pela', 'pepsi', 'mudando', 'sua', 'fórmula', 'pra', 'algo', 'próximo', 'concorrente', 'marketing', 'político', 'não', 'diferente', 'se', 'jairbolsonaro', 'passasse', 'ser', \"'paz\", \"amor'\", 'ter', 'tomado', 'uma', 'facada', 'quase', 'moal', 'estar', 'hospitalizado', 'jogaria', 'lixo', 'sua', 'marca', 'postura', 'pepsicuela', 'pepsi', 'eu', 'moro', 'mei', 'longe', 'ai', 'eu', 'vo', 'p', 'ai', 'p', 'toma', 'garapa', 'bixo', 'eu', 'amo', 'pepsi', 'mdsss', 'paradisewang', '2015', '👶', '2018', '🤵', 'o', 'dream', 'night', 'foi', 'um', 'web', 'drama', 'pra', 'fazer', 'gente', 'rir', 'produção', 'mas', 'essa', 'propaganda', 'pepsi', 'jackson', 'ma…', 'realpfigueiredo', 'lula', 'teve', '80%', 'popularidade', 'em', 'seu', 'mandato', 'não', 'implantou', 'comunismo', 'nenhum', 'vai', 'ser', 'agora', 'com', 'um', 'crescimento', 'sua', 'rejeição', 'que', 'vão', 'implantar', 'alguma', 'coisa', 'kkkkkk', 'pessoas', 'acreditam', 'em', 'feto', 'humano', 'pepsi', 'wesnercagliari', 'olavete', 'vc', 'sabia', 'que', 'pepsi', 'cola', 'usa', 'células', 'fetos', 'aboados', 'pra', 'adoçar', 'seus', 'refrigerantes', 'caso', 'vc', 'consuma', 'você', 'pode', 'ser', 'considerado', 'um', 'aboista', 'terceirizado', 'dizer', 'isso', 'sim', 'cagar', 'pela', 'boca', 'assinar', 'um', 'atestado', 'estupidez', 'incontestável', 'guigaknf', 'belinha', 'falo', 'q', 'pepsi', 'ia', 'brotar', 'com', 'ela', 'pra', 'fzr', 'felicidade', 'dele', '😅', '😦', 'eu', 'fiz', 'uma', 'promessa', 'não', 'beber', 'coca', 'cola', 'mas', 'quero', 'fazer', 'uma', 'receita', 'que', 'vai', 'coca', 'estarei', 'quebrando', 'promessa', 'se', 'usar', 'pepsi', '24khot', 'segunda', 'noite', 'pepsi', 'center', '08092018hotcarrotgroup🇧🇷24kmagicworldtourfinale', '24magicworldtour', 'brunomars', '~p', 'https…', 'eles', 'bebem', 'mais', 'pepsi', 'que', 'coca', 'cola', 'ambas', 'são', 'muito', 'mais', 'doces', 'que', 'aqui', 'alesantuchi', 'eu', 'não', 'coloco', 'limão', 'pq', 'nao', 'confio', 'restaurantes', 'expondo', 'essa', 'fruta', 'ambiente', 'depois', 'coado', 'exposto', 'limão', 'absorve', 'tudo', 'ambiente', 'mas', 'gostoso', 'sim', 'para', 'lembrar', 'eu', 'bebo', 'pepsi', 'twist', 'paradisewang', '2015', '👶', '2018', '🤵', 'o', 'dream', 'night', 'foi', 'um', 'web', 'drama', 'pra', 'fazer', 'gente', 'rir', 'produção', 'mas', 'essa', 'propaganda', 'pepsi', 'jackson', 'ma…', '24khot', 'segunda', 'noite', 'pepsi', 'center', '08092018hotcarrotgroup🇧🇷24kmagicworldtourfinale24magicworldtourbrunomarsuser', 'insta', 'tb…', 'ixisadora', 'sonha', 'que', 'pepsi', 'paga', 'vei', 'essa', 'pepsi', 'gengibre', '&lt3', 'ingriddsantoss', 'ano', '2012show', 'forfun', 'pepsi', 'gurizada', 'metendo', 'aquece', 'rua', 'aguardando', 'ansiosamente', 'começa', 'showhidrop…', 'bcaalian', 'kkkkkkk', 'jamais', 'uma', 'necessidade', 'minha', 'pepsi', 'twist', 'salgado', 'daegenius', 'eu', 'tava', 'pensando', 'mensagens', 'subliminares', 'que', 'botam', 'trás', 'logos', 'tipo', 'eu', 'li', 'um', 'negócio', 'sobre', 'pepsi', 'ou', 'coca', 'cola', 'era', 'meio', 'bizarro', 'paradisewang', '2015', '👶', '2018', '🤵', 'o', 'dream', 'night', 'foi', 'um', 'web', 'drama', 'pra', 'fazer', 'gente', 'rir', 'produção', 'mas', 'essa', 'propaganda', 'pepsi', 'jackson', 'ma…', 'ingriddsantoss', 'ano', '2012show', 'forfun', 'pepsi', 'gurizada', 'metendo', 'aquece', 'rua', 'aguardando', 'ansiosamente', 'começa', 'showhidrop…', 'essa', 'antaica', 'black', 'parece', 'mt', 'pepsi', 'paradisewang', '2015', '👶', '2018', '🤵', 'o', 'dream', 'night', 'foi', 'um', 'web', 'drama', 'pra', 'fazer', 'gente', 'rir', 'produção', 'mas', 'essa', 'propaganda', 'pepsi', 'jackson', 'ma…', 'como', 'fazer', 'um', 'quadcopter', 'caseiro', 'elétrico', 'drone', 'com', 'latinha', 'refrigerantepepsi', '080918', 'httpstcohckge4e2ab', 'httpstcoksv9qhu5re', 'britneyonlinebr', 'fotógrafa', 'randee', 'st', 'nicholas', 'divulgou', 'foto', 'completa', 'britney', 'para', 'pepsi', '🤤', 'httpstcoi2enloh4jp', 'voce', 'gosta', 'pepsipq', 'minha', 'pussy', 'tem', 'esse', 'gostinho', 'quer', 'provaraskfandoms', 'maisbritney', '🚨', 'notíciasbritneyarmyrandee', 'st', 'nicholas', 'divulgou', 'em', 'seu', 'instagram', 'foto', 'original', 'britneyspears', 'para', 'pepsi…', 'quem', 'ela', 'pensa', 'q', 'esfregando', 'essa', 'porra', 'em', 'mim', 'noite', 'inteiraaaaaaaaa', 'pepsi', 'que', 'aguarde', 'porque', 'zona', 'sul', 'já', 'foi', '👋', '🏻', '\\U0001f91f', '🏻', '🔥', 'bspearsbr', '📢', 'notícia', '📢', 'randee', 'divulga', 'em', 'seu', 'instagram', 'foto', 'original', 'pepsi', '2018', 'httpstcod2wjmkdndv', 'paradisewang', '2015', '👶', '2018', '🤵', 'o', 'dream', 'night', 'foi', 'um', 'web', 'drama', 'pra', 'fazer', 'gente', 'rir', 'produção', 'mas', 'essa', 'propaganda', 'pepsi', 'jackson', 'ma…', 'paradisewang', '2015', '👶', '2018', '🤵', 'o', 'dream', 'night', 'foi', 'um', 'web', 'drama', 'pra', 'fazer', 'gente', 'rir', 'produção', 'mas', 'essa', 'propaganda', 'pepsi', 'jackson', 'ma…', 'blackorjackson', 'pepsi', 'lança', 'latinhas', 'com', 'foto', 'mike', 'não', 'tem', 'brasil', 'países', 'fazem', 'tributo', 'em', 'comemoração', '60', 'anos', 'michael…', 'paradisewang', '2015', '👶', '2018', '🤵', 'o', 'dream', 'night', 'foi', 'um', 'web', 'drama', 'pra', 'fazer', 'gente', 'rir', 'produção', 'mas', 'essa', 'propaganda', 'pepsi', 'jackson', 'ma…', 'não', 'tem', 'coca', 'só', 'pepsi', 'pode', 'ser', 'httpstcorja1lmonth', 'pepsi', 'mt', 'melhor', 'q', 'coca', 'nada', 'como', 'uma', 'bacia', 'pipoca', 'uma', 'pepsi', 'durante', 'uma', 'madrugada', 'tediosa']\n"
     ]
    }
   ],
   "source": [
    "#listando palavras que compõem todos os tweets\n",
    "lista_palavras = []\n",
    "for frase in pepsi[\"Treinamento\"]:\n",
    "    for palavra in frase.split():\n",
    "        lista_palavras.append(palavra)\n",
    "print(lista_palavras)"
   ]
  },
  {
   "cell_type": "code",
   "execution_count": 26,
   "metadata": {
    "scrolled": false
   },
   "outputs": [
    {
     "data": {
      "text/plain": [
       "pepsi                 191\n",
       "um                     60\n",
       "2018                   59\n",
       "pra                    55\n",
       "mas                    54\n",
       "gente                  50\n",
       "essa                   48\n",
       "foi                    48\n",
       "propaganda             47\n",
       "fazer                  46\n",
       "web                    45\n",
       "ma…                    45\n",
       "jackson                45\n",
       "dream                  45\n",
       "drama                  45\n",
       "2015                   45\n",
       "o                      45\n",
       "🤵                      45\n",
       "rir                    45\n",
       "paradisewang           45\n",
       "produção               45\n",
       "night                  45\n",
       "👶                      45\n",
       "uma                    42\n",
       "que                    39\n",
       "😂                      35\n",
       "em                     34\n",
       "foto                   30\n",
       "📢                      28\n",
       "com                    27\n",
       "                     ... \n",
       "httpstco0996lyuicz      1\n",
       "abrir                   1\n",
       "resto                   1\n",
       "~                       1\n",
       "👼                       1\n",
       "rihanna                 1\n",
       "atestado                1\n",
       "bcaalian                1\n",
       "medalhão                1\n",
       "logo                    1\n",
       "httpstcowcj9vzya4u      1\n",
       "2litros                 1\n",
       "ninguém                 1\n",
       "chega                   1\n",
       "uptown                  1\n",
       "paulino                 1\n",
       "barquinha               1\n",
       "cheddar                 1\n",
       "httpstcof7twaeyinj      1\n",
       "beija                   1\n",
       "história                1\n",
       "vinagrete               1\n",
       "ctz                     1\n",
       "chá                     1\n",
       "decorado                1\n",
       "amais                   1\n",
       "sanduiche               1\n",
       "thtxr                   1\n",
       "caiocgomes              1\n",
       "merda                   1\n",
       "Length: 782, dtype: int64"
      ]
     },
     "execution_count": 26,
     "metadata": {},
     "output_type": "execute_result"
    }
   ],
   "source": [
    "#frequencia das palavras que compõem os tweets relevantes\n",
    "pd.Series(lista_palavras_relevantes).value_counts()"
   ]
  },
  {
   "cell_type": "code",
   "execution_count": 27,
   "metadata": {},
   "outputs": [
    {
     "data": {
      "text/plain": [
       "pepsi            71\n",
       "que              41\n",
       "não              24\n",
       "eu               24\n",
       "um               19\n",
       "com              16\n",
       "cola             15\n",
       "uma              15\n",
       "coca             13\n",
       "minha            12\n",
       "😯                12\n",
       "em                9\n",
       "se                8\n",
       "nao               8\n",
       "ela               8\n",
       "ser               8\n",
       "pra               7\n",
       "só                7\n",
       "mas               7\n",
       "tem               7\n",
       "foi               6\n",
       "esse              6\n",
       "mais              6\n",
       "sua               6\n",
       "q                 6\n",
       "ai                6\n",
       "para              6\n",
       "como              6\n",
       "me                5\n",
       "to                5\n",
       "                 ..\n",
       "black             1\n",
       "restaurante       1\n",
       "agua              1\n",
       "600               1\n",
       "kkkkkkkkkkkkk     1\n",
       "parece            1\n",
       "velho             1\n",
       "também…           1\n",
       "peito…            1\n",
       "milhares          1\n",
       "randee            1\n",
       "vem               1\n",
       "fiquei            1\n",
       "makrosa           1\n",
       "homens            1\n",
       "acho              1\n",
       "youtube           1\n",
       "mensagens         1\n",
       "tentaram          1\n",
       "botam             1\n",
       "ódio              1\n",
       "acuada            1\n",
       "subliminares      1\n",
       "nem               1\n",
       "novo              1\n",
       "onde              1\n",
       "chorar            1\n",
       "conhecido         1\n",
       "lei               1\n",
       "jogaria           1\n",
       "Length: 707, dtype: int64"
      ]
     },
     "execution_count": 27,
     "metadata": {},
     "output_type": "execute_result"
    }
   ],
   "source": [
    "#frequencia das palavras que compõem os tweets irrelevantes\n",
    "pd.Series(lista_palavras_irrelevantes).value_counts()"
   ]
  },
  {
   "cell_type": "code",
   "execution_count": 28,
   "metadata": {},
   "outputs": [
    {
     "data": {
      "text/plain": [
       "pepsi                  262\n",
       "que                     80\n",
       "um                      79\n",
       "pra                     62\n",
       "2018                    61\n",
       "mas                     61\n",
       "uma                     57\n",
       "foi                     54\n",
       "gente                   53\n",
       "essa                    53\n",
       "fazer                   50\n",
       "propaganda              47\n",
       "o                       46\n",
       "night                   45\n",
       "2015                    45\n",
       "eu                      45\n",
       "👶                       45\n",
       "dream                   45\n",
       "🤵                       45\n",
       "rir                     45\n",
       "web                     45\n",
       "produção                45\n",
       "ma…                     45\n",
       "paradisewang            45\n",
       "jackson                 45\n",
       "drama                   45\n",
       "em                      43\n",
       "com                     43\n",
       "😂                       35\n",
       "não                     33\n",
       "                      ... \n",
       "mccasquinha              1\n",
       "tome                     1\n",
       "pq                       1\n",
       "causa                    1\n",
       "muita                    1\n",
       "decider                  1\n",
       "~~tsc~~aaaaaaaaaaah      1\n",
       "milagre                  1\n",
       "anterogreco              1\n",
       "enorme                   1\n",
       "senti                    1\n",
       "fogo                     1\n",
       "medalhão                 1\n",
       "longe                    1\n",
       "louco                    1\n",
       "hooligans                1\n",
       "tarot                    1\n",
       "emocionada               1\n",
       "dai                      1\n",
       "preco                    1\n",
       "câncer                   1\n",
       "jogaria                  1\n",
       "12                       1\n",
       "fiz                      1\n",
       "ásia                     1\n",
       "giaretf                  1\n",
       "umas                     1\n",
       "quer                     1\n",
       "flexível                 1\n",
       "vs                       1\n",
       "Length: 1334, dtype: int64"
      ]
     },
     "execution_count": 28,
     "metadata": {},
     "output_type": "execute_result"
    }
   ],
   "source": [
    "#frequencia das palavras totais\n",
    "pd.Series(lista_palavras).value_counts()"
   ]
  },
  {
   "cell_type": "code",
   "execution_count": 29,
   "metadata": {},
   "outputs": [
    {
     "name": "stdout",
     "output_type": "stream",
     "text": [
      "1334\n"
     ]
    }
   ],
   "source": [
    "#testando o length obtido acima\n",
    "lista_palavras_sem_rep = []\n",
    "for palavra in lista_palavras:\n",
    "    if palavra not in lista_palavras_sem_rep:\n",
    "        lista_palavras_sem_rep.append(palavra)\n",
    "\n",
    "print(len(lista_palavras_sem_rep))\n"
   ]
  },
  {
   "cell_type": "code",
   "execution_count": 30,
   "metadata": {},
   "outputs": [
    {
     "name": "stdout",
     "output_type": "stream",
     "text": [
      "[0.043146067415730335, 0.027767065175472425]\n",
      "0.043146067415730335\n"
     ]
    }
   ],
   "source": [
    "#criando funcao classificador de palavras\n",
    "len_rel = len(lista_palavras_relevantes) #3739\n",
    "len_irrel = len(lista_palavras_irrelevantes) #1511\n",
    "total_sem_rep = len(lista_palavras_sem_rep) #length do value counts do total de palavras, mas também obtido pelo codigo da celula acima\n",
    "\n",
    "relevantes = pd.Series(lista_palavras_relevantes).value_counts()\n",
    "irrelevantes = pd.Series(lista_palavras_irrelevantes).value_counts()\n",
    "\n",
    "def classificador_palavra(palavra):\n",
    "    if palavra in relevantes and palavra in irrelevantes:\n",
    "        P_rel =  (relevantes[palavra] + 1)/(len_rel + total_sem_rep)\n",
    "        P_irrel = (irrelevantes[palavra] + 1)/(len_irrel + total_sem_rep)\n",
    "        \n",
    "    if palavra in relevantes and palavra not in irrelevantes:\n",
    "        P_rel = (relevantes[palavra] + 1)/(len_rel + total_sem_rep)\n",
    "        P_irrel = (0 + 1)/(len_irrel + total_sem_rep)\n",
    "    \n",
    "    if palavra not in relevantes and palavra in irrelevantes:\n",
    "        P_rel = (0 + 1)/(len_rel + total_sem_rep)\n",
    "        P_irrel = (irrelevantes[palavra] + 1)/(len_irrel + total_sem_rep)\n",
    "    \n",
    "    if palavra not in relevantes and palavra not in irrelevantes:\n",
    "        P_rel = (0 + 1)/(len_rel + total_sem_rep)\n",
    "        P_irrel = (0 + 1)/(len_irrel + total_sem_rep)\n",
    "    \n",
    "    return[P_rel, P_irrel]\n",
    "\n",
    "print(classificador_palavra(\"pepsi\"))\n",
    "print(classificador_palavra(\"pepsi\")[0])"
   ]
  },
  {
   "cell_type": "code",
   "execution_count": 31,
   "metadata": {},
   "outputs": [
    {
     "name": "stdout",
     "output_type": "stream",
     "text": [
      "0.6866666666666666\n",
      "0.31333333333333335\n"
     ]
    }
   ],
   "source": [
    "#calculando probabilidade de ser relevante e irrelevnate\n",
    "P_relevante = len(pepsi_relevante[\"Critério\"])/len(pepsi[\"Critério\"])\n",
    "P_irrelevante = len(pepsi_irrelevante[\"Critério\"])/len(pepsi[\"Critério\"])\n",
    "print(P_relevante)\n",
    "print(P_irrelevante)"
   ]
  },
  {
   "cell_type": "code",
   "execution_count": 32,
   "metadata": {},
   "outputs": [
    {
     "name": "stdout",
     "output_type": "stream",
     "text": [
      "Relevante\n"
     ]
    }
   ],
   "source": [
    "#criando classificador de frases\n",
    "def classificador_tweet(tweet):\n",
    "    P_rel = 1\n",
    "    P_irrel = 1\n",
    "    lista_tweet = tweet.split()\n",
    "    for palavra in lista_tweet:\n",
    "        P_rel *= classificador_palavra(palavra)[0]\n",
    "        P_irrel *= classificador_palavra(palavra)[1]\n",
    "    P_rel = math.log(P_rel * P_relevante)\n",
    "    P_irrel = math.log(P_irrel * P_irrelevante)\n",
    "    if P_rel > P_irrel:\n",
    "        return \"Relevante\"\n",
    "        #return \"O tweet tem grandes chances de ser relevante.\"\n",
    "    elif P_rel < P_irrel:\n",
    "        return \"Irrelevante\"\n",
    "        #return \"O tweet tem grandes chances de ser irrelevante.\"\n",
    "    else:\n",
    "        return \"O tweet ta bugado.\"\n",
    "\n",
    "#testando para um tweet aleatório\n",
    "print(classificador_tweet(\"eu amo pepsi\"))"
   ]
  },
  {
   "cell_type": "markdown",
   "metadata": {},
   "source": [
    "___\n",
    "## Verificando a performance\n",
    "\n",
    "Agora você deve testar o seu Classificador com a base de Testes.<br /><br /> \n",
    "\n",
    "Você deve extrair as seguintes medidas:\n",
    "* Porcentagem de positivos falsos (marcados como relevante mas não são relevantes)\n",
    "* Porcentagem de positivos verdadeiros (marcado como relevante e são relevantes)\n",
    "* Porcentagem de negativos verdadeiros (marcado como não relevante e não são relevantes)\n",
    "* Porcentagem de negativos falsos (marcado como não relevante e são relevantes)\n",
    "\n",
    "Obrigatório para grupos de 3 alunos:\n",
    "* Criar categorias intermediárias de relevância baseado na diferença de probabilidades. Exemplo: muito relevante, relevante, neutro, irrelevante e muito irrelevante."
   ]
  },
  {
   "cell_type": "code",
   "execution_count": 33,
   "metadata": {
    "scrolled": true
   },
   "outputs": [
    {
     "data": {
      "text/html": [
       "<div>\n",
       "<style scoped>\n",
       "    .dataframe tbody tr th:only-of-type {\n",
       "        vertical-align: middle;\n",
       "    }\n",
       "\n",
       "    .dataframe tbody tr th {\n",
       "        vertical-align: top;\n",
       "    }\n",
       "\n",
       "    .dataframe thead th {\n",
       "        text-align: right;\n",
       "    }\n",
       "</style>\n",
       "<table border=\"1\" class=\"dataframe\">\n",
       "  <thead>\n",
       "    <tr style=\"text-align: right;\">\n",
       "      <th></th>\n",
       "      <th>Teste</th>\n",
       "      <th>Critério</th>\n",
       "    </tr>\n",
       "  </thead>\n",
       "  <tbody>\n",
       "    <tr>\n",
       "      <th>0</th>\n",
       "      <td>@olavinha88 @pombococo @craudin_ @mongolasc @r...</td>\n",
       "      <td>Irrelevante</td>\n",
       "    </tr>\n",
       "    <tr>\n",
       "      <th>1</th>\n",
       "      <td>um camarão com macarrão no alho , uma pepsi dp...</td>\n",
       "      <td>Irrelevante</td>\n",
       "    </tr>\n",
       "    <tr>\n",
       "      <th>2</th>\n",
       "      <td>@aguadeunicornio @_mirianpereira você salvou u...</td>\n",
       "      <td>Irrelevante</td>\n",
       "    </tr>\n",
       "    <tr>\n",
       "      <th>3</th>\n",
       "      <td>passei o dia todo hj estressada querendo uma c...</td>\n",
       "      <td>Relevante</td>\n",
       "    </tr>\n",
       "    <tr>\n",
       "      <th>4</th>\n",
       "      <td>sua pepsi maravilhosa foi o centro da discussã...</td>\n",
       "      <td>Relevante</td>\n",
       "    </tr>\n",
       "  </tbody>\n",
       "</table>\n",
       "</div>"
      ],
      "text/plain": [
       "                                               Teste     Critério\n",
       "0  @olavinha88 @pombococo @craudin_ @mongolasc @r...  Irrelevante\n",
       "1  um camarão com macarrão no alho , uma pepsi dp...  Irrelevante\n",
       "2  @aguadeunicornio @_mirianpereira você salvou u...  Irrelevante\n",
       "3  passei o dia todo hj estressada querendo uma c...    Relevante\n",
       "4  sua pepsi maravilhosa foi o centro da discussã...    Relevante"
      ]
     },
     "execution_count": 33,
     "metadata": {},
     "output_type": "execute_result"
    }
   ],
   "source": [
    "#lendo o arquivo Teste do excel da pepsi\n",
    "pepsi_teste = pd.read_excel('tweets_pepsi_201809092234.xlsx', sheet_name=1)\n",
    "pepsi_teste.head()"
   ]
  },
  {
   "cell_type": "code",
   "execution_count": 53,
   "metadata": {
    "scrolled": true
   },
   "outputs": [
    {
     "data": {
      "text/html": [
       "<div>\n",
       "<style scoped>\n",
       "    .dataframe tbody tr th:only-of-type {\n",
       "        vertical-align: middle;\n",
       "    }\n",
       "\n",
       "    .dataframe tbody tr th {\n",
       "        vertical-align: top;\n",
       "    }\n",
       "\n",
       "    .dataframe thead th {\n",
       "        text-align: right;\n",
       "    }\n",
       "</style>\n",
       "<table border=\"1\" class=\"dataframe\">\n",
       "  <thead>\n",
       "    <tr style=\"text-align: right;\">\n",
       "      <th></th>\n",
       "      <th>Teste</th>\n",
       "      <th>Critério</th>\n",
       "      <th>Classificação</th>\n",
       "    </tr>\n",
       "  </thead>\n",
       "  <tbody>\n",
       "    <tr>\n",
       "      <th>0</th>\n",
       "      <td>olavinha88 pombococo craudin mongolasc rollerg...</td>\n",
       "      <td>Irrelevante</td>\n",
       "      <td>Irrelevante</td>\n",
       "    </tr>\n",
       "    <tr>\n",
       "      <th>1</th>\n",
       "      <td>um camarão com macarrão alho  uma pepsi dps un...</td>\n",
       "      <td>Irrelevante</td>\n",
       "      <td>Irrelevante</td>\n",
       "    </tr>\n",
       "    <tr>\n",
       "      <th>2</th>\n",
       "      <td>aguadeunicornio mirianpereira você salvou uma ...</td>\n",
       "      <td>Irrelevante</td>\n",
       "      <td>Irrelevante</td>\n",
       "    </tr>\n",
       "    <tr>\n",
       "      <th>3</th>\n",
       "      <td>passei dia todo hj estressada querendo uma coc...</td>\n",
       "      <td>Relevante</td>\n",
       "      <td>Relevante</td>\n",
       "    </tr>\n",
       "    <tr>\n",
       "      <th>4</th>\n",
       "      <td>sua pepsi maravilhosa foi centro discussão htt...</td>\n",
       "      <td>Relevante</td>\n",
       "      <td>Irrelevante</td>\n",
       "    </tr>\n",
       "  </tbody>\n",
       "</table>\n",
       "</div>"
      ],
      "text/plain": [
       "                                               Teste     Critério  \\\n",
       "0  olavinha88 pombococo craudin mongolasc rollerg...  Irrelevante   \n",
       "1  um camarão com macarrão alho  uma pepsi dps un...  Irrelevante   \n",
       "2  aguadeunicornio mirianpereira você salvou uma ...  Irrelevante   \n",
       "3  passei dia todo hj estressada querendo uma coc...    Relevante   \n",
       "4  sua pepsi maravilhosa foi centro discussão htt...    Relevante   \n",
       "\n",
       "  Classificação  \n",
       "0   Irrelevante  \n",
       "1   Irrelevante  \n",
       "2   Irrelevante  \n",
       "3     Relevante  \n",
       "4   Irrelevante  "
      ]
     },
     "execution_count": 53,
     "metadata": {},
     "output_type": "execute_result"
    }
   ],
   "source": [
    "#limpando os tweets Teste \n",
    "limpa_tweet(pepsi_teste[\"Teste\"])\n",
    "pepsi_teste.head()"
   ]
  },
  {
   "cell_type": "code",
   "execution_count": 59,
   "metadata": {},
   "outputs": [
    {
     "data": {
      "text/html": [
       "<div>\n",
       "<style scoped>\n",
       "    .dataframe tbody tr th:only-of-type {\n",
       "        vertical-align: middle;\n",
       "    }\n",
       "\n",
       "    .dataframe tbody tr th {\n",
       "        vertical-align: top;\n",
       "    }\n",
       "\n",
       "    .dataframe thead th {\n",
       "        text-align: right;\n",
       "    }\n",
       "</style>\n",
       "<table border=\"1\" class=\"dataframe\">\n",
       "  <thead>\n",
       "    <tr style=\"text-align: right;\">\n",
       "      <th></th>\n",
       "      <th>Teste</th>\n",
       "      <th>Critério</th>\n",
       "      <th>Classificação</th>\n",
       "    </tr>\n",
       "  </thead>\n",
       "  <tbody>\n",
       "    <tr>\n",
       "      <th>0</th>\n",
       "      <td>olavinha88 pombococo craudin mongolasc rollerg...</td>\n",
       "      <td>Irrelevante</td>\n",
       "      <td>Irrelevante</td>\n",
       "    </tr>\n",
       "    <tr>\n",
       "      <th>1</th>\n",
       "      <td>um camarão com macarrão alho  uma pepsi dps un...</td>\n",
       "      <td>Irrelevante</td>\n",
       "      <td>Irrelevante</td>\n",
       "    </tr>\n",
       "    <tr>\n",
       "      <th>2</th>\n",
       "      <td>aguadeunicornio mirianpereira você salvou uma ...</td>\n",
       "      <td>Irrelevante</td>\n",
       "      <td>Irrelevante</td>\n",
       "    </tr>\n",
       "    <tr>\n",
       "      <th>3</th>\n",
       "      <td>passei dia todo hj estressada querendo uma coc...</td>\n",
       "      <td>Relevante</td>\n",
       "      <td>Relevante</td>\n",
       "    </tr>\n",
       "    <tr>\n",
       "      <th>4</th>\n",
       "      <td>sua pepsi maravilhosa foi centro discussão htt...</td>\n",
       "      <td>Relevante</td>\n",
       "      <td>Irrelevante</td>\n",
       "    </tr>\n",
       "  </tbody>\n",
       "</table>\n",
       "</div>"
      ],
      "text/plain": [
       "                                               Teste     Critério  \\\n",
       "0  olavinha88 pombococo craudin mongolasc rollerg...  Irrelevante   \n",
       "1  um camarão com macarrão alho  uma pepsi dps un...  Irrelevante   \n",
       "2  aguadeunicornio mirianpereira você salvou uma ...  Irrelevante   \n",
       "3  passei dia todo hj estressada querendo uma coc...    Relevante   \n",
       "4  sua pepsi maravilhosa foi centro discussão htt...    Relevante   \n",
       "\n",
       "  Classificação  \n",
       "0   Irrelevante  \n",
       "1   Irrelevante  \n",
       "2   Irrelevante  \n",
       "3     Relevante  \n",
       "4   Irrelevante  "
      ]
     },
     "execution_count": 59,
     "metadata": {},
     "output_type": "execute_result"
    }
   ],
   "source": [
    "#colocando espacos entre os emojis dos tweets Teste\n",
    "pepsi_teste[\"Teste\"] = espaco_emoji(pepsi_teste[\"Teste\"])\n",
    "pepsi_teste.head()"
   ]
  },
  {
   "cell_type": "code",
   "execution_count": 36,
   "metadata": {},
   "outputs": [],
   "source": [
    "#filtrando os tweets teste de acordo com o critério relevante\n",
    "pepsi_teste_relevante = pepsi_teste[(pepsi_teste[\"Critério\"]==\"Relevante\")]\n",
    "#pepsi_teste_relevante.head()"
   ]
  },
  {
   "cell_type": "code",
   "execution_count": 37,
   "metadata": {},
   "outputs": [],
   "source": [
    "#filtrando os tweets teste de acordo com o critério irrelevante\n",
    "pepsi_teste_irrelevante = pepsi_teste[(pepsi_teste[\"Critério\"]==\"Irrelevante\")]\n",
    "#pepsi_teste_irrelevante.head()"
   ]
  },
  {
   "cell_type": "code",
   "execution_count": 38,
   "metadata": {},
   "outputs": [
    {
     "name": "stdout",
     "output_type": "stream",
     "text": [
      "200\n",
      "['Irrelevante', 'Irrelevante', 'Irrelevante', 'Relevante', 'Irrelevante', 'Irrelevante', 'Irrelevante', 'Relevante', 'Relevante', 'Relevante', 'Irrelevante', 'Irrelevante', 'Relevante', 'Relevante', 'Relevante', 'Irrelevante', 'Irrelevante', 'Irrelevante', 'Relevante', 'Relevante', 'Irrelevante', 'Relevante', 'Irrelevante', 'Irrelevante', 'Relevante', 'Relevante', 'Irrelevante', 'Relevante', 'Irrelevante', 'Relevante', 'Irrelevante', 'Irrelevante', 'Irrelevante', 'Irrelevante', 'Irrelevante', 'Irrelevante', 'Irrelevante', 'Irrelevante', 'Relevante', 'Relevante', 'Irrelevante', 'Relevante', 'Relevante', 'Relevante', 'Irrelevante', 'Irrelevante', 'Relevante', 'Relevante', 'Relevante', 'Relevante', 'Relevante', 'Relevante', 'Irrelevante', 'Relevante', 'Irrelevante', 'Irrelevante', 'Irrelevante', 'Irrelevante', 'Relevante', 'Relevante', 'Relevante', 'Relevante', 'Relevante', 'Irrelevante', 'Relevante', 'Irrelevante', 'Relevante', 'Irrelevante', 'Relevante', 'Irrelevante', 'Relevante', 'Irrelevante', 'Irrelevante', 'Irrelevante', 'Relevante', 'Relevante', 'Irrelevante', 'Irrelevante', 'Relevante', 'Relevante', 'Irrelevante', 'Relevante', 'Irrelevante', 'Irrelevante', 'Relevante', 'Relevante', 'Relevante', 'Relevante', 'Irrelevante', 'Relevante', 'Relevante', 'Irrelevante', 'Relevante', 'Relevante', 'Irrelevante', 'Irrelevante', 'Relevante', 'Irrelevante', 'Relevante', 'Irrelevante', 'Irrelevante', 'Relevante', 'Irrelevante', 'Irrelevante', 'Irrelevante', 'Irrelevante', 'Irrelevante', 'Irrelevante', 'Irrelevante', 'Irrelevante', 'Irrelevante', 'Irrelevante', 'Irrelevante', 'Irrelevante', 'Relevante', 'Relevante', 'Relevante', 'Irrelevante', 'Relevante', 'Relevante', 'Irrelevante', 'Relevante', 'Irrelevante', 'Irrelevante', 'Irrelevante', 'Irrelevante', 'Relevante', 'Relevante', 'Irrelevante', 'Relevante', 'Irrelevante', 'Relevante', 'Irrelevante', 'Irrelevante', 'Relevante', 'Irrelevante', 'Irrelevante', 'Relevante', 'Irrelevante', 'Relevante', 'Irrelevante', 'Relevante', 'Irrelevante', 'Relevante', 'Irrelevante', 'Irrelevante', 'Relevante', 'Relevante', 'Irrelevante', 'Irrelevante', 'Relevante', 'Irrelevante', 'Irrelevante', 'Relevante', 'Irrelevante', 'Relevante', 'Irrelevante', 'Relevante', 'Irrelevante', 'Relevante', 'Irrelevante', 'Relevante', 'Relevante', 'Relevante', 'Irrelevante', 'Irrelevante', 'Irrelevante', 'Irrelevante', 'Relevante', 'Relevante', 'Irrelevante', 'Relevante', 'Relevante', 'Irrelevante', 'Relevante', 'Irrelevante', 'Irrelevante', 'Irrelevante', 'Irrelevante', 'Irrelevante', 'Relevante', 'Irrelevante', 'Irrelevante', 'Irrelevante', 'Relevante', 'Irrelevante', 'Irrelevante', 'Irrelevante', 'Relevante', 'Relevante', 'Irrelevante', 'Relevante', 'Relevante', 'Irrelevante', 'Irrelevante', 'Irrelevante', 'Relevante', 'Irrelevante', 'Irrelevante', 'Relevante']\n"
     ]
    }
   ],
   "source": [
    "#classificando os tweets teste usando a funcao criada anteriormente\n",
    "classificacao_teste = []\n",
    "for tweet in pepsi_teste[\"Teste\"]:\n",
    "    classificacao_teste.append(classificador_tweet(tweet))\n",
    "\n",
    "print(len(classificacao_teste))\n",
    "print(classificacao_teste)  "
   ]
  },
  {
   "cell_type": "code",
   "execution_count": 39,
   "metadata": {},
   "outputs": [
    {
     "data": {
      "text/html": [
       "<div>\n",
       "<style scoped>\n",
       "    .dataframe tbody tr th:only-of-type {\n",
       "        vertical-align: middle;\n",
       "    }\n",
       "\n",
       "    .dataframe tbody tr th {\n",
       "        vertical-align: top;\n",
       "    }\n",
       "\n",
       "    .dataframe thead th {\n",
       "        text-align: right;\n",
       "    }\n",
       "</style>\n",
       "<table border=\"1\" class=\"dataframe\">\n",
       "  <thead>\n",
       "    <tr style=\"text-align: right;\">\n",
       "      <th></th>\n",
       "      <th>Teste</th>\n",
       "      <th>Critério</th>\n",
       "      <th>Classificação</th>\n",
       "    </tr>\n",
       "  </thead>\n",
       "  <tbody>\n",
       "    <tr>\n",
       "      <th>0</th>\n",
       "      <td>olavinha88 pombococo craudin mongolasc rollerg...</td>\n",
       "      <td>Irrelevante</td>\n",
       "      <td>Irrelevante</td>\n",
       "    </tr>\n",
       "    <tr>\n",
       "      <th>1</th>\n",
       "      <td>um camarão com macarrão alho  uma pepsi dps un...</td>\n",
       "      <td>Irrelevante</td>\n",
       "      <td>Irrelevante</td>\n",
       "    </tr>\n",
       "    <tr>\n",
       "      <th>2</th>\n",
       "      <td>aguadeunicornio mirianpereira você salvou uma ...</td>\n",
       "      <td>Irrelevante</td>\n",
       "      <td>Irrelevante</td>\n",
       "    </tr>\n",
       "    <tr>\n",
       "      <th>3</th>\n",
       "      <td>passei dia todo hj estressada querendo uma coc...</td>\n",
       "      <td>Relevante</td>\n",
       "      <td>Relevante</td>\n",
       "    </tr>\n",
       "    <tr>\n",
       "      <th>4</th>\n",
       "      <td>sua pepsi maravilhosa foi centro discussão htt...</td>\n",
       "      <td>Relevante</td>\n",
       "      <td>Irrelevante</td>\n",
       "    </tr>\n",
       "    <tr>\n",
       "      <th>5</th>\n",
       "      <td>observaldo eu falei repito q vc so fala merda ...</td>\n",
       "      <td>Irrelevante</td>\n",
       "      <td>Irrelevante</td>\n",
       "    </tr>\n",
       "    <tr>\n",
       "      <th>6</th>\n",
       "      <td>anawithann gengibraotwistprovando novo sabor ...</td>\n",
       "      <td>Relevante</td>\n",
       "      <td>Irrelevante</td>\n",
       "    </tr>\n",
       "    <tr>\n",
       "      <th>7</th>\n",
       "      <td>btsare7 como esquecer dia que jimin mesmo com...</td>\n",
       "      <td>Irrelevante</td>\n",
       "      <td>Relevante</td>\n",
       "    </tr>\n",
       "    <tr>\n",
       "      <th>8</th>\n",
       "      <td>felipevangeli esquerda tudo burra inteligente...</td>\n",
       "      <td>Irrelevante</td>\n",
       "      <td>Relevante</td>\n",
       "    </tr>\n",
       "    <tr>\n",
       "      <th>9</th>\n",
       "      <td>aventurasjs denúncia pepsi agora adoçada com ...</td>\n",
       "      <td>Relevante</td>\n",
       "      <td>Relevante</td>\n",
       "    </tr>\n",
       "  </tbody>\n",
       "</table>\n",
       "</div>"
      ],
      "text/plain": [
       "                                               Teste     Critério  \\\n",
       "0  olavinha88 pombococo craudin mongolasc rollerg...  Irrelevante   \n",
       "1  um camarão com macarrão alho  uma pepsi dps un...  Irrelevante   \n",
       "2  aguadeunicornio mirianpereira você salvou uma ...  Irrelevante   \n",
       "3  passei dia todo hj estressada querendo uma coc...    Relevante   \n",
       "4  sua pepsi maravilhosa foi centro discussão htt...    Relevante   \n",
       "5  observaldo eu falei repito q vc so fala merda ...  Irrelevante   \n",
       "6   anawithann gengibraotwistprovando novo sabor ...    Relevante   \n",
       "7   btsare7 como esquecer dia que jimin mesmo com...  Irrelevante   \n",
       "8   felipevangeli esquerda tudo burra inteligente...  Irrelevante   \n",
       "9   aventurasjs denúncia pepsi agora adoçada com ...    Relevante   \n",
       "\n",
       "  Classificação  \n",
       "0   Irrelevante  \n",
       "1   Irrelevante  \n",
       "2   Irrelevante  \n",
       "3     Relevante  \n",
       "4   Irrelevante  \n",
       "5   Irrelevante  \n",
       "6   Irrelevante  \n",
       "7     Relevante  \n",
       "8     Relevante  \n",
       "9     Relevante  "
      ]
     },
     "execution_count": 39,
     "metadata": {},
     "output_type": "execute_result"
    }
   ],
   "source": [
    "#adicionando a classificação em relevante e irrelevante pelo bot ao dataframe inicial do pepsi Teste\n",
    "pepsi_teste[\"Classificação\"] = pd.Series(classificacao_teste)\n",
    "pepsi_teste.head(10)"
   ]
  },
  {
   "cell_type": "code",
   "execution_count": 40,
   "metadata": {},
   "outputs": [
    {
     "data": {
      "text/plain": [
       "Relevante      153\n",
       "Irrelevante     47\n",
       "Name: Critério, dtype: int64"
      ]
     },
     "execution_count": 40,
     "metadata": {},
     "output_type": "execute_result"
    }
   ],
   "source": [
    "#verificando relevância dos tweets classificados por nós\n",
    "pepsi_teste[\"Critério\"].value_counts()"
   ]
  },
  {
   "cell_type": "code",
   "execution_count": 41,
   "metadata": {},
   "outputs": [
    {
     "data": {
      "text/plain": [
       "Irrelevante    111\n",
       "Relevante       89\n",
       "Name: Classificação, dtype: int64"
      ]
     },
     "execution_count": 41,
     "metadata": {},
     "output_type": "execute_result"
    }
   ],
   "source": [
    "#verificando relevância dos tweets classificados pelo bot\n",
    "pepsi_teste[\"Classificação\"].value_counts()"
   ]
  },
  {
   "cell_type": "code",
   "execution_count": 42,
   "metadata": {},
   "outputs": [
    {
     "data": {
      "text/html": [
       "<div>\n",
       "<style scoped>\n",
       "    .dataframe tbody tr th:only-of-type {\n",
       "        vertical-align: middle;\n",
       "    }\n",
       "\n",
       "    .dataframe tbody tr th {\n",
       "        vertical-align: top;\n",
       "    }\n",
       "\n",
       "    .dataframe thead th {\n",
       "        text-align: right;\n",
       "    }\n",
       "</style>\n",
       "<table border=\"1\" class=\"dataframe\">\n",
       "  <thead>\n",
       "    <tr style=\"text-align: right;\">\n",
       "      <th></th>\n",
       "      <th>Teste</th>\n",
       "      <th>Critério</th>\n",
       "      <th>Classificação</th>\n",
       "    </tr>\n",
       "  </thead>\n",
       "  <tbody>\n",
       "    <tr>\n",
       "      <th>7</th>\n",
       "      <td>btsare7 como esquecer dia que jimin mesmo com...</td>\n",
       "      <td>Irrelevante</td>\n",
       "      <td>Relevante</td>\n",
       "    </tr>\n",
       "    <tr>\n",
       "      <th>8</th>\n",
       "      <td>felipevangeli esquerda tudo burra inteligente...</td>\n",
       "      <td>Irrelevante</td>\n",
       "      <td>Relevante</td>\n",
       "    </tr>\n",
       "    <tr>\n",
       "      <th>18</th>\n",
       "      <td>paradisewang 2015 👶 2018 🤵 o dream night foi ...</td>\n",
       "      <td>Irrelevante</td>\n",
       "      <td>Relevante</td>\n",
       "    </tr>\n",
       "    <tr>\n",
       "      <th>19</th>\n",
       "      <td>tomei pepsi gelada mas cerveja tava quente  💔</td>\n",
       "      <td>Irrelevante</td>\n",
       "      <td>Relevante</td>\n",
       "    </tr>\n",
       "    <tr>\n",
       "      <th>21</th>\n",
       "      <td>denúncia pepsi agora adoçada com fetos aboados...</td>\n",
       "      <td>Irrelevante</td>\n",
       "      <td>Relevante</td>\n",
       "    </tr>\n",
       "  </tbody>\n",
       "</table>\n",
       "</div>"
      ],
      "text/plain": [
       "                                                Teste     Critério  \\\n",
       "7    btsare7 como esquecer dia que jimin mesmo com...  Irrelevante   \n",
       "8    felipevangeli esquerda tudo burra inteligente...  Irrelevante   \n",
       "18   paradisewang 2015 👶 2018 🤵 o dream night foi ...  Irrelevante   \n",
       "19     tomei pepsi gelada mas cerveja tava quente  💔   Irrelevante   \n",
       "21  denúncia pepsi agora adoçada com fetos aboados...  Irrelevante   \n",
       "\n",
       "   Classificação  \n",
       "7      Relevante  \n",
       "8      Relevante  \n",
       "18     Relevante  \n",
       "19     Relevante  \n",
       "21     Relevante  "
      ]
     },
     "execution_count": 42,
     "metadata": {},
     "output_type": "execute_result"
    }
   ],
   "source": [
    "#Porcentagem de positivos falsos (marcados como relevante mas não são relevantes)\n",
    "pepsi_positivos_falsos = pepsi_teste[(pepsi_teste[\"Critério\"]==\"Irrelevante\")&(pepsi_teste[\"Classificação\"]==\"Relevante\")]\n",
    "pepsi_positivos_falsos.head()"
   ]
  },
  {
   "cell_type": "code",
   "execution_count": 43,
   "metadata": {},
   "outputs": [
    {
     "name": "stdout",
     "output_type": "stream",
     "text": [
      "0.055\n"
     ]
    }
   ],
   "source": [
    "a = len(pepsi_positivos_falsos)/len(pepsi_teste)\n",
    "print(a)"
   ]
  },
  {
   "cell_type": "code",
   "execution_count": 44,
   "metadata": {},
   "outputs": [
    {
     "data": {
      "text/html": [
       "<div>\n",
       "<style scoped>\n",
       "    .dataframe tbody tr th:only-of-type {\n",
       "        vertical-align: middle;\n",
       "    }\n",
       "\n",
       "    .dataframe tbody tr th {\n",
       "        vertical-align: top;\n",
       "    }\n",
       "\n",
       "    .dataframe thead th {\n",
       "        text-align: right;\n",
       "    }\n",
       "</style>\n",
       "<table border=\"1\" class=\"dataframe\">\n",
       "  <thead>\n",
       "    <tr style=\"text-align: right;\">\n",
       "      <th></th>\n",
       "      <th>Teste</th>\n",
       "      <th>Critério</th>\n",
       "      <th>Classificação</th>\n",
       "    </tr>\n",
       "  </thead>\n",
       "  <tbody>\n",
       "    <tr>\n",
       "      <th>3</th>\n",
       "      <td>passei dia todo hj estressada querendo uma coc...</td>\n",
       "      <td>Relevante</td>\n",
       "      <td>Relevante</td>\n",
       "    </tr>\n",
       "    <tr>\n",
       "      <th>9</th>\n",
       "      <td>aventurasjs denúncia pepsi agora adoçada com ...</td>\n",
       "      <td>Relevante</td>\n",
       "      <td>Relevante</td>\n",
       "    </tr>\n",
       "    <tr>\n",
       "      <th>12</th>\n",
       "      <td>paradisewang 2015 👶 2018 🤵 o dream night foi ...</td>\n",
       "      <td>Relevante</td>\n",
       "      <td>Relevante</td>\n",
       "    </tr>\n",
       "    <tr>\n",
       "      <th>13</th>\n",
       "      <td>jhoseokfave jimin pergunta qual bebida mais f...</td>\n",
       "      <td>Relevante</td>\n",
       "      <td>Relevante</td>\n",
       "    </tr>\n",
       "    <tr>\n",
       "      <th>14</th>\n",
       "      <td>paradisewang 2015 👶 2018 🤵 o dream night foi ...</td>\n",
       "      <td>Relevante</td>\n",
       "      <td>Relevante</td>\n",
       "    </tr>\n",
       "  </tbody>\n",
       "</table>\n",
       "</div>"
      ],
      "text/plain": [
       "                                                Teste   Critério Classificação\n",
       "3   passei dia todo hj estressada querendo uma coc...  Relevante     Relevante\n",
       "9    aventurasjs denúncia pepsi agora adoçada com ...  Relevante     Relevante\n",
       "12   paradisewang 2015 👶 2018 🤵 o dream night foi ...  Relevante     Relevante\n",
       "13   jhoseokfave jimin pergunta qual bebida mais f...  Relevante     Relevante\n",
       "14   paradisewang 2015 👶 2018 🤵 o dream night foi ...  Relevante     Relevante"
      ]
     },
     "execution_count": 44,
     "metadata": {},
     "output_type": "execute_result"
    }
   ],
   "source": [
    "#Porcentagem de positivos verdadeiros (marcado como relevante e são relevantes)\n",
    "pepsi_positivos_verdadeiros = pepsi_teste[(pepsi_teste[\"Critério\"]==\"Relevante\")&(pepsi_teste[\"Classificação\"]==\"Relevante\")]\n",
    "pepsi_positivos_verdadeiros.head()"
   ]
  },
  {
   "cell_type": "code",
   "execution_count": 45,
   "metadata": {},
   "outputs": [
    {
     "name": "stdout",
     "output_type": "stream",
     "text": [
      "0.39\n"
     ]
    }
   ],
   "source": [
    "b = len(pepsi_positivos_verdadeiros)/len(pepsi_teste)\n",
    "print(b)"
   ]
  },
  {
   "cell_type": "code",
   "execution_count": 46,
   "metadata": {},
   "outputs": [
    {
     "data": {
      "text/html": [
       "<div>\n",
       "<style scoped>\n",
       "    .dataframe tbody tr th:only-of-type {\n",
       "        vertical-align: middle;\n",
       "    }\n",
       "\n",
       "    .dataframe tbody tr th {\n",
       "        vertical-align: top;\n",
       "    }\n",
       "\n",
       "    .dataframe thead th {\n",
       "        text-align: right;\n",
       "    }\n",
       "</style>\n",
       "<table border=\"1\" class=\"dataframe\">\n",
       "  <thead>\n",
       "    <tr style=\"text-align: right;\">\n",
       "      <th></th>\n",
       "      <th>Teste</th>\n",
       "      <th>Critério</th>\n",
       "      <th>Classificação</th>\n",
       "    </tr>\n",
       "  </thead>\n",
       "  <tbody>\n",
       "    <tr>\n",
       "      <th>4</th>\n",
       "      <td>sua pepsi maravilhosa foi centro discussão htt...</td>\n",
       "      <td>Relevante</td>\n",
       "      <td>Irrelevante</td>\n",
       "    </tr>\n",
       "    <tr>\n",
       "      <th>6</th>\n",
       "      <td>anawithann gengibraotwistprovando novo sabor ...</td>\n",
       "      <td>Relevante</td>\n",
       "      <td>Irrelevante</td>\n",
       "    </tr>\n",
       "    <tr>\n",
       "      <th>10</th>\n",
       "      <td>coloursuga eu achava pepsi melhor mas como eu ...</td>\n",
       "      <td>Relevante</td>\n",
       "      <td>Irrelevante</td>\n",
       "    </tr>\n",
       "    <tr>\n",
       "      <th>11</th>\n",
       "      <td>essa pepsi gengibre maravilhosa pena que ediçã...</td>\n",
       "      <td>Relevante</td>\n",
       "      <td>Irrelevante</td>\n",
       "    </tr>\n",
       "    <tr>\n",
       "      <th>22</th>\n",
       "      <td>meu deus céu tomar uma latinha pepsi depois fi...</td>\n",
       "      <td>Relevante</td>\n",
       "      <td>Irrelevante</td>\n",
       "    </tr>\n",
       "  </tbody>\n",
       "</table>\n",
       "</div>"
      ],
      "text/plain": [
       "                                                Teste   Critério Classificação\n",
       "4   sua pepsi maravilhosa foi centro discussão htt...  Relevante   Irrelevante\n",
       "6    anawithann gengibraotwistprovando novo sabor ...  Relevante   Irrelevante\n",
       "10  coloursuga eu achava pepsi melhor mas como eu ...  Relevante   Irrelevante\n",
       "11  essa pepsi gengibre maravilhosa pena que ediçã...  Relevante   Irrelevante\n",
       "22  meu deus céu tomar uma latinha pepsi depois fi...  Relevante   Irrelevante"
      ]
     },
     "execution_count": 46,
     "metadata": {},
     "output_type": "execute_result"
    }
   ],
   "source": [
    "#Porcentagem de negativos falsos (marcado como não relevante e são relevantes)\n",
    "pepsi_negativos_falsos = pepsi_teste[(pepsi_teste[\"Critério\"]==\"Relevante\")&(pepsi_teste[\"Classificação\"]==\"Irrelevante\")]\n",
    "pepsi_negativos_falsos.head()"
   ]
  },
  {
   "cell_type": "code",
   "execution_count": 47,
   "metadata": {},
   "outputs": [
    {
     "name": "stdout",
     "output_type": "stream",
     "text": [
      "0.375\n"
     ]
    }
   ],
   "source": [
    "c = len(pepsi_negativos_falsos)/len(pepsi_teste)\n",
    "print(c)"
   ]
  },
  {
   "cell_type": "code",
   "execution_count": 48,
   "metadata": {},
   "outputs": [
    {
     "data": {
      "text/html": [
       "<div>\n",
       "<style scoped>\n",
       "    .dataframe tbody tr th:only-of-type {\n",
       "        vertical-align: middle;\n",
       "    }\n",
       "\n",
       "    .dataframe tbody tr th {\n",
       "        vertical-align: top;\n",
       "    }\n",
       "\n",
       "    .dataframe thead th {\n",
       "        text-align: right;\n",
       "    }\n",
       "</style>\n",
       "<table border=\"1\" class=\"dataframe\">\n",
       "  <thead>\n",
       "    <tr style=\"text-align: right;\">\n",
       "      <th></th>\n",
       "      <th>Teste</th>\n",
       "      <th>Critério</th>\n",
       "      <th>Classificação</th>\n",
       "    </tr>\n",
       "  </thead>\n",
       "  <tbody>\n",
       "    <tr>\n",
       "      <th>0</th>\n",
       "      <td>olavinha88 pombococo craudin mongolasc rollerg...</td>\n",
       "      <td>Irrelevante</td>\n",
       "      <td>Irrelevante</td>\n",
       "    </tr>\n",
       "    <tr>\n",
       "      <th>1</th>\n",
       "      <td>um camarão com macarrão alho  uma pepsi dps un...</td>\n",
       "      <td>Irrelevante</td>\n",
       "      <td>Irrelevante</td>\n",
       "    </tr>\n",
       "    <tr>\n",
       "      <th>2</th>\n",
       "      <td>aguadeunicornio mirianpereira você salvou uma ...</td>\n",
       "      <td>Irrelevante</td>\n",
       "      <td>Irrelevante</td>\n",
       "    </tr>\n",
       "    <tr>\n",
       "      <th>5</th>\n",
       "      <td>observaldo eu falei repito q vc so fala merda ...</td>\n",
       "      <td>Irrelevante</td>\n",
       "      <td>Irrelevante</td>\n",
       "    </tr>\n",
       "    <tr>\n",
       "      <th>15</th>\n",
       "      <td>fui shop pra comer so essencial eu comprei um ...</td>\n",
       "      <td>Irrelevante</td>\n",
       "      <td>Irrelevante</td>\n",
       "    </tr>\n",
       "  </tbody>\n",
       "</table>\n",
       "</div>"
      ],
      "text/plain": [
       "                                                Teste     Critério  \\\n",
       "0   olavinha88 pombococo craudin mongolasc rollerg...  Irrelevante   \n",
       "1   um camarão com macarrão alho  uma pepsi dps un...  Irrelevante   \n",
       "2   aguadeunicornio mirianpereira você salvou uma ...  Irrelevante   \n",
       "5   observaldo eu falei repito q vc so fala merda ...  Irrelevante   \n",
       "15  fui shop pra comer so essencial eu comprei um ...  Irrelevante   \n",
       "\n",
       "   Classificação  \n",
       "0    Irrelevante  \n",
       "1    Irrelevante  \n",
       "2    Irrelevante  \n",
       "5    Irrelevante  \n",
       "15   Irrelevante  "
      ]
     },
     "execution_count": 48,
     "metadata": {},
     "output_type": "execute_result"
    }
   ],
   "source": [
    "#Porcentagem de negativos verdadeiros (marcado como não relevante e não são relevantes)\n",
    "pepsi_negativos_verdadeiros = pepsi_teste[(pepsi_teste[\"Critério\"]==\"Irrelevante\")&(pepsi_teste[\"Classificação\"]==\"Irrelevante\")]\n",
    "pepsi_negativos_verdadeiros.head()"
   ]
  },
  {
   "cell_type": "code",
   "execution_count": 49,
   "metadata": {},
   "outputs": [
    {
     "name": "stdout",
     "output_type": "stream",
     "text": [
      "0.18\n"
     ]
    }
   ],
   "source": [
    "d = len(pepsi_negativos_verdadeiros)/len(pepsi_teste)\n",
    "print(d)"
   ]
  },
  {
   "cell_type": "code",
   "execution_count": 50,
   "metadata": {},
   "outputs": [
    {
     "name": "stdout",
     "output_type": "stream",
     "text": [
      "0.5700000000000001\n"
     ]
    }
   ],
   "source": [
    "semelhanca = b + d\n",
    "print(semelhanca)"
   ]
  },
  {
   "cell_type": "markdown",
   "metadata": {},
   "source": [
    "___\n",
    "## Concluindo\n",
    "\n",
    "Escreva aqui a sua conclusão.<br /> \n",
    "Faça um comparativo qualitativo sobre as medidas obtidas.<br />\n",
    "Explique como são tratadas as mensagens com dupla negação e sarcasmo.<br />\n",
    "Proponha um plano de expansão. Por que eles devem continuar financiando o seu projeto?<br />\n",
    "\n",
    "Opcionalmente: \n",
    "* Discorrer por que não posso alimentar minha base de Treinamento automaticamente usando o próprio classificador, aplicado a novos tweets.\n",
    "* Propor diferentes cenários de uso para o classificador Naive-Bayes. Cenários sem intersecção com este projeto.\n",
    "* Sugerir e explicar melhorias reais no classificador com indicações concretas de como implementar (não é preciso codificar, mas indicar como fazer e material de pesquisa sobre o assunto).\n"
   ]
  },
  {
   "cell_type": "markdown",
   "metadata": {},
   "source": [
    "   A partir da proposta de criar uma inteligência que conseguisse extrair emoções de tweets e classificá-las, o grupo se engajou no desafio de a partir de postagens sobre produtos, identificar emoções de usuários reais. A amostra obtida foi de 500 tweets, sendo 300 para o treinamento do programa e 200 para realizar o teste de performance.\n",
    "\n",
    "   Com isso os processos realizados foram: separação manual de tweets relevantes e irrelevantes, “limpeza” dos tweets, retirando informações sem valor de análise, contagem e classificação de palavras como relevantes ou irrelevantes. Juntamente com suas respectivas probabilidades em cada caso, e por fim um teste com os 200 tweets destinados a essa finalidade.\n",
    "\n",
    "   Em termos qualitativos de análise dos resultados o programa foi capaz de processar informações sobre os tweets recebidos e a partir delas diagnosticar se ele seria relevante ou irrelevante  com um índice de precisão maior que a média. Em casos de sarcasmo ou dupla negação o processo realizado tanto pelo programa quanto pelo grupo na análise individual foi de tratar como um bot trataria, deixando de lado o senso humano e pessoal, para obter uma maior transparência e objetividade no tratamento da informação e diminuir o viés pessoal.\n",
    "\n",
    "   Com o objetivo de expandir o programa construído seria necessário uma maior amostragem de tweets com mais de um assunto/produto, para que a inteligência do programa conseguisse ter um repertório maior, além de novas formas e métodos para o cálculo de probabilidades com o objetivo de comparar e adequar ao melhor caso possível o melhor método de análise. Com apenas alguns dias de projeto o grupo foi capaz de realizar um programa eficiente, com espaço para aprimoramentos, mas que consegue atender ao propósito de forma efetiva, visto esse desempenho e o bom planejamento para atingir os próximos objetivos o grupo está mais que preparado para novos projetos.\n",
    "\n",
    "   Quando tratamos de expandir os horizontes e aumentar o alcance do programa temos alguns caminhos possíveis de serem trilhados, como por exemplo, visto o contexto atual, análises sobre campanhas políticas, identificando não só por meio de tweets a percepção da população sobre determinados candidatos ou até mesmo temas de forte discussão.\n"
   ]
  }
 ],
 "metadata": {
  "kernelspec": {
   "display_name": "Python 3",
   "language": "python",
   "name": "python3"
  },
  "language_info": {
   "codemirror_mode": {
    "name": "ipython",
    "version": 3
   },
   "file_extension": ".py",
   "mimetype": "text/x-python",
   "name": "python",
   "nbconvert_exporter": "python",
   "pygments_lexer": "ipython3",
   "version": "3.6.4"
  }
 },
 "nbformat": 4,
 "nbformat_minor": 2
}
